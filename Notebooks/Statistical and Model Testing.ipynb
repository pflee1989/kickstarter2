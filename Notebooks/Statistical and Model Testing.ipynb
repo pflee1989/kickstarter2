{
 "cells": [
  {
   "cell_type": "markdown",
   "id": "f7991ed9",
   "metadata": {},
   "source": [
    "Import Everything (Hopefully)"
   ]
  },
  {
   "cell_type": "code",
   "execution_count": 4,
   "id": "40a6a559",
   "metadata": {},
   "outputs": [
    {
     "name": "stdout",
     "output_type": "stream",
     "text": [
      "Requirement already satisfied: seaborn in c:\\users\\pflee\\.virtualenvs\\app-xzdt7joq\\lib\\site-packages (0.11.2)\n",
      "Requirement already satisfied: matplotlib>=2.2 in c:\\users\\pflee\\.virtualenvs\\app-xzdt7joq\\lib\\site-packages (from seaborn) (3.4.3)\n",
      "Requirement already satisfied: pandas>=0.23 in c:\\users\\pflee\\.virtualenvs\\app-xzdt7joq\\lib\\site-packages (from seaborn) (1.3.2)\n",
      "Requirement already satisfied: scipy>=1.0 in c:\\users\\pflee\\.virtualenvs\\app-xzdt7joq\\lib\\site-packages (from seaborn) (1.7.1)\n",
      "Requirement already satisfied: numpy>=1.15 in c:\\users\\pflee\\.virtualenvs\\app-xzdt7joq\\lib\\site-packages (from seaborn) (1.20.3)\n",
      "Requirement already satisfied: kiwisolver>=1.0.1 in c:\\users\\pflee\\.virtualenvs\\app-xzdt7joq\\lib\\site-packages (from matplotlib>=2.2->seaborn) (1.3.1)\n",
      "Requirement already satisfied: pyparsing>=2.2.1 in c:\\users\\pflee\\.virtualenvs\\app-xzdt7joq\\lib\\site-packages (from matplotlib>=2.2->seaborn) (2.4.7)\n",
      "Requirement already satisfied: pillow>=6.2.0 in c:\\users\\pflee\\.virtualenvs\\app-xzdt7joq\\lib\\site-packages (from matplotlib>=2.2->seaborn) (8.3.1)\n",
      "Requirement already satisfied: cycler>=0.10 in c:\\users\\pflee\\.virtualenvs\\app-xzdt7joq\\lib\\site-packages (from matplotlib>=2.2->seaborn) (0.10.0)\n",
      "Requirement already satisfied: python-dateutil>=2.7 in c:\\users\\pflee\\.virtualenvs\\app-xzdt7joq\\lib\\site-packages (from matplotlib>=2.2->seaborn) (2.8.2)\n",
      "Requirement already satisfied: six in c:\\users\\pflee\\.virtualenvs\\app-xzdt7joq\\lib\\site-packages (from cycler>=0.10->matplotlib>=2.2->seaborn) (1.16.0)\n",
      "Requirement already satisfied: pytz>=2017.3 in c:\\users\\pflee\\.virtualenvs\\app-xzdt7joq\\lib\\site-packages (from pandas>=0.23->seaborn) (2021.1)\n"
     ]
    }
   ],
   "source": [
    "import sys\n",
    "import pandas as pd\n",
    "import numpy as np\n",
    "# !pip install matplotlib\n",
    "!pip install seaborn\n",
    "import seaborn as sns\n",
    "import matplotlib.pyplot as plt\n",
    "\n",
    "import sklearn\n",
    "from sklearn.preprocessing import LabelEncoder\n",
    "from sklearn.model_selection import train_test_split\n",
    "from category_encoders import OneHotEncoder, OrdinalEncoder\n",
    "from sklearn.model_selection import train_test_split\n",
    "from sklearn.preprocessing import StandardScaler\n",
    "from sklearn.impute import SimpleImputer\n",
    "from sklearn.pipeline import make_pipeline\n",
    "from sklearn.metrics import accuracy_score\n",
    "\n",
    "# import xgboost\n",
    "# from xgboost import XGBClassifier\n",
    "from sklearn.tree import DecisionTreeClassifier\n",
    "from sklearn.ensemble import RandomForestClassifier, GradientBoostingClassifier\n",
    "\n",
    "import pickle\n",
    "import joblib"
   ]
  },
  {
   "cell_type": "code",
   "execution_count": 5,
   "id": "7af839b0",
   "metadata": {},
   "outputs": [],
   "source": [
    "from sklearn.linear_model import Ridge, LinearRegression, LogisticRegression\n",
    "from sklearn.ensemble import RandomForestRegressor, RandomForestClassifier, GradientBoostingClassifier\n",
    "# from xgboost import XGBRegressor, XGBClassifier\n",
    "from sklearn.preprocessing import StandardScaler\n",
    "from sklearn.impute import SimpleImputer\n",
    "from sklearn.pipeline import Pipeline\n",
    "from sklearn.metrics import mean_absolute_error, mean_squared_error, r2_score, accuracy_score, plot_confusion_matrix, plot_roc_curve, classification_report\n"
   ]
  },
  {
   "cell_type": "code",
   "execution_count": 6,
   "id": "ec93c955",
   "metadata": {},
   "outputs": [],
   "source": [
    "import sklearn\n",
    "from sklearn.model_selection import train_test_split\n",
    "from category_encoders import OneHotEncoder, OrdinalEncoder\n",
    "# !pip install catboost\n",
    "# import catboost\n",
    "# from catboost import CatBoostClassifier"
   ]
  },
  {
   "cell_type": "code",
   "execution_count": 4,
   "id": "843679aa",
   "metadata": {},
   "outputs": [],
   "source": [
    "# import json\n",
    "# df = pd.read_csv(\"V3_final.csv\")"
   ]
  },
  {
   "cell_type": "code",
   "execution_count": 5,
   "id": "e178dccd",
   "metadata": {},
   "outputs": [],
   "source": [
    "# df = df.drop(columns=[\"Unnamed: 0\"])  "
   ]
  },
  {
   "cell_type": "markdown",
   "id": "e424aae5",
   "metadata": {},
   "source": [
    "First Check on the Data"
   ]
  },
  {
   "cell_type": "code",
   "execution_count": 6,
   "id": "23cbbb1c",
   "metadata": {},
   "outputs": [
    {
     "data": {
      "text/plain": [
       "(10198, 8)"
      ]
     },
     "execution_count": 6,
     "metadata": {},
     "output_type": "execute_result"
    }
   ],
   "source": [
    "# df.shape"
   ]
  },
  {
   "cell_type": "markdown",
   "id": "36e25b0c",
   "metadata": {},
   "source": [
    "According to the label encoding fiasco yesterday-- there are still NaNs\n",
    "We will take a closer look into the two string columsn that the model relies on. "
   ]
  },
  {
   "cell_type": "code",
   "execution_count": 7,
   "id": "c1e309c6",
   "metadata": {},
   "outputs": [
    {
     "data": {
      "text/plain": [
       "film & video    1843\n",
       "music           1152\n",
       "dance           1096\n",
       "games           1069\n",
       "fashion          974\n",
       "art              794\n",
       "publishing       641\n",
       "technology       567\n",
       "food             500\n",
       "photography      333\n",
       "design           292\n",
       "theater          268\n",
       "comics           267\n",
       "crafts           213\n",
       "journalism       152\n",
       "journalisms       37\n",
       "Name: category, dtype: int64"
      ]
     },
     "execution_count": 7,
     "metadata": {},
     "output_type": "execute_result"
    }
   ],
   "source": [
    "# No NaNs\n",
    "# df[\"category\"].value_counts()"
   ]
  },
  {
   "cell_type": "code",
   "execution_count": 8,
   "id": "c3b327e4",
   "metadata": {},
   "outputs": [
    {
     "data": {
      "text/plain": [
       "narrative film       708\n",
       "performances         608\n",
       "jewelry              568\n",
       "tabletop games       333\n",
       "video games          269\n",
       "                    ... \n",
       "social practice        2\n",
       "literary journals      2\n",
       "digital art            1\n",
       "bacon                  1\n",
       "color                  1\n",
       "Name: sub_category, Length: 140, dtype: int64"
      ]
     },
     "execution_count": 8,
     "metadata": {},
     "output_type": "execute_result"
    }
   ],
   "source": [
    "# No NaNs\n",
    "# df[\"sub_category\"].value_counts()"
   ]
  },
  {
   "cell_type": "code",
   "execution_count": 9,
   "id": "fa72e021",
   "metadata": {},
   "outputs": [],
   "source": [
    "# Drop NaN regardless\n",
    "# df = df.dropna()"
   ]
  },
  {
   "cell_type": "code",
   "execution_count": 10,
   "id": "c5a9a552",
   "metadata": {
    "scrolled": true
   },
   "outputs": [
    {
     "data": {
      "text/plain": [
       "(9594, 8)"
      ]
     },
     "execution_count": 10,
     "metadata": {},
     "output_type": "execute_result"
    }
   ],
   "source": [
    "# SO-- ABOUT 200 ROWS HAD PROBLEMATIC ISSUES OF NANS OR MESSED UP SYMBLES.....\n",
    "\n",
    "# df.shape"
   ]
  },
  {
   "cell_type": "code",
   "execution_count": 31,
   "id": "2aeaaeed",
   "metadata": {},
   "outputs": [],
   "source": [
    "df_export = df.to_csv(\"FinalClean.csv\")"
   ]
  },
  {
   "cell_type": "markdown",
   "id": "8de4c1df",
   "metadata": {},
   "source": [
    "We Finally cleaned the data, now GET THE X AND Y"
   ]
  },
  {
   "cell_type": "code",
   "execution_count": 7,
   "id": "94f95810",
   "metadata": {},
   "outputs": [],
   "source": [
    "# Use 3 decimal places in output display\n",
    "pd.set_option(\"display.precision\", 10)\n",
    "\n",
    "# Don't wrap repr(DataFrame) across additional lines\n",
    "pd.set_option(\"display.expand_frame_repr\", False)\n",
    "\n",
    "# Set max rows displayed in output to 25\n",
    "pd.set_option(\"display.max_rows\", 10000)"
   ]
  },
  {
   "cell_type": "code",
   "execution_count": 8,
   "id": "2f1d9f7d",
   "metadata": {},
   "outputs": [],
   "source": [
    "df = pd.read_csv(\"FinalClean.csv\")"
   ]
  },
  {
   "cell_type": "code",
   "execution_count": 9,
   "id": "df933dea",
   "metadata": {},
   "outputs": [
    {
     "data": {
      "image/png": "[encoded data removed]",
      "text/plain": [
       "<Figure size 576x576 with 1 Axes>"
      ]
     },
     "metadata": {},
     "output_type": "display_data"
    }
   ],
   "source": [
    "sns.set(rc={\"figure.figsize\":(8, 8)})\n",
    "df[\"goal_in_usd\"].plot()\n",
    "sns.set()\n",
    "plt.show()"
   ]
  },
  {
   "cell_type": "code",
   "execution_count": 10,
   "id": "a35c97bf",
   "metadata": {},
   "outputs": [
    {
     "data": {
      "image/png": "[encoded data removed]",
      "text/plain": [
       "<Figure size 576x576 with 1 Axes>"
      ]
     },
     "metadata": {},
     "output_type": "display_data"
    }
   ],
   "source": [
    "sns.set(rc={\"figure.figsize\":(8, 8)})\n",
    "df[\"usd_pledged\"].plot()\n",
    "sns.set()\n",
    "plt.show()"
   ]
  },
  {
   "cell_type": "code",
   "execution_count": 19,
   "id": "5fea134e",
   "metadata": {
    "scrolled": true
   },
   "outputs": [
    {
     "data": {
      "image/png": "[encoded data removed]",
      "text/plain": [
       "<Figure size 576x576 with 1 Axes>"
      ]
     },
     "metadata": {},
     "output_type": "display_data"
    }
   ],
   "source": [
    "sns.set(rc={\"figure.figsize\":(8, 8)})\n",
    "df[\"backers_count\"].plot()\n",
    "sns.set()\n",
    "plt.xlabel(\"Index\")\n",
    "plt.show()"
   ]
  },
  {
   "cell_type": "code",
   "execution_count": 14,
   "id": "e07cb58f",
   "metadata": {},
   "outputs": [
    {
     "data": {
      "text/plain": [
       "167.54721701063164"
      ]
     },
     "execution_count": 14,
     "metadata": {},
     "output_type": "execute_result"
    }
   ],
   "source": [
    "df[\"backers_count\"].mean()"
   ]
  },
  {
   "cell_type": "code",
   "execution_count": 15,
   "id": "2bbb5a19",
   "metadata": {},
   "outputs": [
    {
     "data": {
      "text/plain": [
       "0    0\n",
       "dtype: int64"
      ]
     },
     "execution_count": 15,
     "metadata": {},
     "output_type": "execute_result"
    }
   ],
   "source": [
    "df[\"backers_count\"].mode()"
   ]
  },
  {
   "cell_type": "code",
   "execution_count": 16,
   "id": "52e2f72a",
   "metadata": {},
   "outputs": [
    {
     "data": {
      "text/plain": [
       "36374"
      ]
     },
     "execution_count": 16,
     "metadata": {},
     "output_type": "execute_result"
    }
   ],
   "source": [
    "df[\"backers_count\"].max()"
   ]
  },
  {
   "cell_type": "code",
   "execution_count": 11,
   "id": "b84c5e56",
   "metadata": {},
   "outputs": [],
   "source": [
    "df_eda = df.copy()"
   ]
  },
  {
   "cell_type": "code",
   "execution_count": 72,
   "id": "b90b3663",
   "metadata": {},
   "outputs": [],
   "source": [
    "# df_eda = df.copy().set_index(\"category\")"
   ]
  },
  {
   "cell_type": "code",
   "execution_count": 89,
   "id": "4bcdb6f1",
   "metadata": {},
   "outputs": [],
   "source": [
    "# df_group =  df_eda.groupby(df[\"sub_category\"], axis = 0)\n",
    "df_group = df_eda.groupby(['sub_category'])[\"usd_pledged\"].max()"
   ]
  },
  {
   "cell_type": "code",
   "execution_count": 93,
   "id": "7f402aa6",
   "metadata": {},
   "outputs": [
    {
     "data": {
      "text/plain": [
       "3203762.0"
      ]
     },
     "execution_count": 93,
     "metadata": {},
     "output_type": "execute_result"
    }
   ],
   "source": [
    "df_group.head(10000).max()"
   ]
  },
  {
   "cell_type": "code",
   "execution_count": 95,
   "id": "7aafb8d6",
   "metadata": {},
   "outputs": [
    {
     "data": {
      "text/plain": [
       "0.0"
      ]
     },
     "execution_count": 95,
     "metadata": {},
     "output_type": "execute_result"
    }
   ],
   "source": [
    "df_group.head(10000).min()"
   ]
  },
  {
   "cell_type": "code",
   "execution_count": 96,
   "id": "2d3a1827",
   "metadata": {},
   "outputs": [],
   "source": [
    "df_eda_1 = df_eda.groupby(['sub_category'])[\"goal_in_usd\"].max()"
   ]
  },
  {
   "cell_type": "code",
   "execution_count": 97,
   "id": "41437ffc",
   "metadata": {},
   "outputs": [
    {
     "data": {
      "text/plain": [
       "50000000.0"
      ]
     },
     "execution_count": 97,
     "metadata": {},
     "output_type": "execute_result"
    }
   ],
   "source": [
    "df_eda_1.max()"
   ]
  },
  {
   "cell_type": "code",
   "execution_count": 98,
   "id": "a80b971d",
   "metadata": {},
   "outputs": [
    {
     "data": {
      "text/plain": [
       "50.0"
      ]
     },
     "execution_count": 98,
     "metadata": {},
     "output_type": "execute_result"
    }
   ],
   "source": [
    "df_eda_1.min()"
   ]
  },
  {
   "cell_type": "code",
   "execution_count": 99,
   "id": "64cc2613",
   "metadata": {},
   "outputs": [
    {
     "data": {
      "text/plain": [
       "729441.6325714285"
      ]
     },
     "execution_count": 99,
     "metadata": {},
     "output_type": "execute_result"
    }
   ],
   "source": [
    "df_eda_1.mean()"
   ]
  },
  {
   "cell_type": "code",
   "execution_count": 100,
   "id": "f39a22f0",
   "metadata": {},
   "outputs": [
    {
     "data": {
      "text/plain": [
       "0    100000.0\n",
       "dtype: float64"
      ]
     },
     "execution_count": 100,
     "metadata": {},
     "output_type": "execute_result"
    }
   ],
   "source": [
    "df_eda_1.mode()"
   ]
  },
  {
   "cell_type": "code",
   "execution_count": 101,
   "id": "972bf0f2",
   "metadata": {},
   "outputs": [
    {
     "data": {
      "text/plain": [
       "36374"
      ]
     },
     "execution_count": 101,
     "metadata": {},
     "output_type": "execute_result"
    }
   ],
   "source": [
    "df[\"backers_count\"].max()"
   ]
  },
  {
   "cell_type": "code",
   "execution_count": 102,
   "id": "8f377ad9",
   "metadata": {},
   "outputs": [
    {
     "data": {
      "text/plain": [
       "32"
      ]
     },
     "execution_count": 102,
     "metadata": {},
     "output_type": "execute_result"
    }
   ],
   "source": [
    "\n",
    "df[\"blurb_length\"].max()"
   ]
  },
  {
   "cell_type": "code",
   "execution_count": 103,
   "id": "f40a923c",
   "metadata": {},
   "outputs": [
    {
     "data": {
      "text/plain": [
       "91"
      ]
     },
     "execution_count": 103,
     "metadata": {},
     "output_type": "execute_result"
    }
   ],
   "source": [
    "df[\"campaign_duration\"].max()"
   ]
  },
  {
   "cell_type": "markdown",
   "id": "cc957840",
   "metadata": {},
   "source": [
    "Getting X and Y"
   ]
  },
  {
   "cell_type": "code",
   "execution_count": 40,
   "id": "4b0f40ec",
   "metadata": {},
   "outputs": [],
   "source": [
    "df_1 = df.drop(columns=[\"state\"])\n",
    "X = df_1"
   ]
  },
  {
   "cell_type": "code",
   "execution_count": 12,
   "id": "65e23ea0",
   "metadata": {},
   "outputs": [
    {
     "data": {
      "text/html": [
       "<div>\n",
       "<style scoped>\n",
       "    .dataframe tbody tr th:only-of-type {\n",
       "        vertical-align: middle;\n",
       "    }\n",
       "\n",
       "    .dataframe tbody tr th {\n",
       "        vertical-align: top;\n",
       "    }\n",
       "\n",
       "    .dataframe thead th {\n",
       "        text-align: right;\n",
       "    }\n",
       "</style>\n",
       "<table border=\"1\" class=\"dataframe\">\n",
       "  <thead>\n",
       "    <tr style=\"text-align: right;\">\n",
       "      <th></th>\n",
       "      <th>backers_count</th>\n",
       "      <th>category</th>\n",
       "      <th>campaign_duration</th>\n",
       "      <th>goal_in_usd</th>\n",
       "      <th>blurb_length</th>\n",
       "      <th>sub_category</th>\n",
       "      <th>usd_pledged</th>\n",
       "    </tr>\n",
       "  </thead>\n",
       "  <tbody>\n",
       "    <tr>\n",
       "      <th>1</th>\n",
       "      <td>0</td>\n",
       "      <td>fashion</td>\n",
       "      <td>60</td>\n",
       "      <td>24282.79</td>\n",
       "      <td>24</td>\n",
       "      <td>jewelry</td>\n",
       "      <td>0.000000</td>\n",
       "    </tr>\n",
       "    <tr>\n",
       "      <th>2</th>\n",
       "      <td>134</td>\n",
       "      <td>fashion</td>\n",
       "      <td>30</td>\n",
       "      <td>325.00</td>\n",
       "      <td>14</td>\n",
       "      <td>jewelry</td>\n",
       "      <td>4487.000000</td>\n",
       "    </tr>\n",
       "    <tr>\n",
       "      <th>3</th>\n",
       "      <td>114</td>\n",
       "      <td>games</td>\n",
       "      <td>45</td>\n",
       "      <td>850000.00</td>\n",
       "      <td>18</td>\n",
       "      <td>gaming hardware</td>\n",
       "      <td>21696.000000</td>\n",
       "    </tr>\n",
       "    <tr>\n",
       "      <th>4</th>\n",
       "      <td>12</td>\n",
       "      <td>film &amp; video</td>\n",
       "      <td>60</td>\n",
       "      <td>10000.00</td>\n",
       "      <td>14</td>\n",
       "      <td>narrative film</td>\n",
       "      <td>1113.000000</td>\n",
       "    </tr>\n",
       "    <tr>\n",
       "      <th>5</th>\n",
       "      <td>3</td>\n",
       "      <td>fashion</td>\n",
       "      <td>30</td>\n",
       "      <td>5000.00</td>\n",
       "      <td>10</td>\n",
       "      <td>jewelry</td>\n",
       "      <td>41.000000</td>\n",
       "    </tr>\n",
       "    <tr>\n",
       "      <th>...</th>\n",
       "      <td>...</td>\n",
       "      <td>...</td>\n",
       "      <td>...</td>\n",
       "      <td>...</td>\n",
       "      <td>...</td>\n",
       "      <td>...</td>\n",
       "      <td>...</td>\n",
       "    </tr>\n",
       "    <tr>\n",
       "      <th>10193</th>\n",
       "      <td>61</td>\n",
       "      <td>art</td>\n",
       "      <td>15</td>\n",
       "      <td>3327.77</td>\n",
       "      <td>10</td>\n",
       "      <td>painting</td>\n",
       "      <td>3704.749988</td>\n",
       "    </tr>\n",
       "    <tr>\n",
       "      <th>10194</th>\n",
       "      <td>26</td>\n",
       "      <td>technology</td>\n",
       "      <td>37</td>\n",
       "      <td>34789.30</td>\n",
       "      <td>14</td>\n",
       "      <td>hardware</td>\n",
       "      <td>10399.682730</td>\n",
       "    </tr>\n",
       "    <tr>\n",
       "      <th>10195</th>\n",
       "      <td>29</td>\n",
       "      <td>film &amp; video</td>\n",
       "      <td>45</td>\n",
       "      <td>610.00</td>\n",
       "      <td>26</td>\n",
       "      <td>animation</td>\n",
       "      <td>649.000000</td>\n",
       "    </tr>\n",
       "    <tr>\n",
       "      <th>10196</th>\n",
       "      <td>1</td>\n",
       "      <td>photography</td>\n",
       "      <td>30</td>\n",
       "      <td>4230.00</td>\n",
       "      <td>15</td>\n",
       "      <td>places</td>\n",
       "      <td>33.839974</td>\n",
       "    </tr>\n",
       "    <tr>\n",
       "      <th>10197</th>\n",
       "      <td>409</td>\n",
       "      <td>photography</td>\n",
       "      <td>31</td>\n",
       "      <td>25500.00</td>\n",
       "      <td>6</td>\n",
       "      <td>animals</td>\n",
       "      <td>28731.000000</td>\n",
       "    </tr>\n",
       "  </tbody>\n",
       "</table>\n",
       "<p>9594 rows × 7 columns</p>\n",
       "</div>"
      ],
      "text/plain": [
       "       backers_count      category  campaign_duration  goal_in_usd  \\\n",
       "1                  0       fashion                 60     24282.79   \n",
       "2                134       fashion                 30       325.00   \n",
       "3                114         games                 45    850000.00   \n",
       "4                 12  film & video                 60     10000.00   \n",
       "5                  3       fashion                 30      5000.00   \n",
       "...              ...           ...                ...          ...   \n",
       "10193             61           art                 15      3327.77   \n",
       "10194             26    technology                 37     34789.30   \n",
       "10195             29  film & video                 45       610.00   \n",
       "10196              1   photography                 30      4230.00   \n",
       "10197            409   photography                 31     25500.00   \n",
       "\n",
       "       blurb_length     sub_category   usd_pledged  \n",
       "1                24          jewelry      0.000000  \n",
       "2                14          jewelry   4487.000000  \n",
       "3                18  gaming hardware  21696.000000  \n",
       "4                14   narrative film   1113.000000  \n",
       "5                10          jewelry     41.000000  \n",
       "...             ...              ...           ...  \n",
       "10193            10         painting   3704.749988  \n",
       "10194            14         hardware  10399.682730  \n",
       "10195            26        animation    649.000000  \n",
       "10196            15           places     33.839974  \n",
       "10197             6          animals  28731.000000  \n",
       "\n",
       "[9594 rows x 7 columns]"
      ]
     },
     "execution_count": 12,
     "metadata": {},
     "output_type": "execute_result"
    }
   ],
   "source": [
    "X"
   ]
  },
  {
   "cell_type": "code",
   "execution_count": 13,
   "id": "63b12cc8",
   "metadata": {},
   "outputs": [],
   "source": [
    "y = df[\"state\"]"
   ]
  },
  {
   "cell_type": "markdown",
   "id": "eff98c15",
   "metadata": {},
   "source": [
    "Start the Train_Test Split"
   ]
  },
  {
   "cell_type": "code",
   "execution_count": 14,
   "id": "957e190f",
   "metadata": {},
   "outputs": [],
   "source": [
    "X_train, X_val, y_train, y_val= train_test_split(X, y, test_size = .35, random_state = 42)"
   ]
  },
  {
   "cell_type": "markdown",
   "id": "62d452aa",
   "metadata": {},
   "source": [
    "1. Back Up the Dataframes for Train and Val\n",
    "2. Isolate the target columns for label encoding\n",
    "3. Back Up the target columsn for later matching of elements in two lists..."
   ]
  },
  {
   "cell_type": "code",
   "execution_count": 15,
   "id": "9958400f",
   "metadata": {},
   "outputs": [],
   "source": [
    "# Back Up the Dataframes of Train and Val\n",
    "X_train_1 = X_train.copy()\n",
    "X_val_1 = X_val.copy()"
   ]
  },
  {
   "cell_type": "code",
   "execution_count": 16,
   "id": "9d419286",
   "metadata": {},
   "outputs": [],
   "source": [
    "# Isolated Columns\n",
    "# Store up the Target Columsn for Label Encoding in Train and Val--- WE WILL PROCESS THESE COLUMNS--\n",
    "# NOT BACK UPS\n",
    "X_train_cat = X_train_1[\"category\"]\n",
    "X_train_sub_cat = X_train_1[\"sub_category\"]\n",
    "X_val_cat = X_val_1[\"category\"]\n",
    "X_val_sub_cat = X_val_1[\"sub_category\"]"
   ]
  },
  {
   "cell_type": "code",
   "execution_count": 17,
   "id": "8be08135",
   "metadata": {},
   "outputs": [],
   "source": [
    "# ACTUAL BACKUPS OF THE TARGET COLUMNS\n",
    "X_train_cat_backup = X_train_1[\"category\"]\n",
    "X_train_sub_cat_backup = X_train_1[\"sub_category\"]\n",
    "X_val_cat_backup = X_val_1[\"category\"]\n",
    "X_val_sub_cat_backup = X_val_1[\"sub_category\"]\n"
   ]
  },
  {
   "cell_type": "code",
   "execution_count": 18,
   "id": "84941c91",
   "metadata": {},
   "outputs": [
    {
     "name": "stdout",
     "output_type": "stream",
     "text": [
      "baseline accuracy 0.6340421096518658\n"
     ]
    }
   ],
   "source": [
    "print('baseline accuracy', y.value_counts(normalize=True).max())"
   ]
  },
  {
   "cell_type": "markdown",
   "id": "97603b56",
   "metadata": {},
   "source": [
    "Then, For Each Model, Run a 100 Times Accuracy Test Average"
   ]
  },
  {
   "cell_type": "code",
   "execution_count": 20,
   "id": "287915be",
   "metadata": {},
   "outputs": [],
   "source": [
    "X_train_cat = X_train_1[\"category\"]\n",
    "X_train_sub_cat = X_train_1[\"sub_category\"]\n",
    "X_val_cat = X_val_1[\"category\"]\n",
    "X_val_sub_cat = X_val_1[\"sub_category\"]"
   ]
  },
  {
   "cell_type": "code",
   "execution_count": 19,
   "id": "ea5bc77b",
   "metadata": {},
   "outputs": [],
   "source": [
    "Encoder = LabelEncoder()"
   ]
  },
  {
   "cell_type": "code",
   "execution_count": 21,
   "id": "e2e82c56",
   "metadata": {},
   "outputs": [],
   "source": [
    "# Label Encode X_train_cat\n",
    "\n",
    "from sklearn import preprocessing\n",
    "le = preprocessing.LabelEncoder()\n",
    "for column_name in X_train_cat:\n",
    "        if X_train_cat.dtype == object:\n",
    "            X_train_cat = le.fit_transform(X_train_cat)\n",
    "        else:\n",
    "            pass\n"
   ]
  },
  {
   "cell_type": "code",
   "execution_count": 22,
   "id": "175ddc29",
   "metadata": {},
   "outputs": [],
   "source": [
    "# Label Encode X_train_sub_cat \n",
    "\n",
    "from sklearn import preprocessing\n",
    "le = preprocessing.LabelEncoder()\n",
    "for column_name in  X_train_sub_cat:\n",
    "        if  X_train_sub_cat.dtype == object:\n",
    "             X_train_sub_cat = le.fit_transform(X_train_sub_cat)\n",
    "        else:\n",
    "            pass"
   ]
  },
  {
   "cell_type": "code",
   "execution_count": 23,
   "id": "912d2dcb",
   "metadata": {},
   "outputs": [],
   "source": [
    "# X_val_cat\n",
    "\n",
    "from sklearn import preprocessing\n",
    "le = preprocessing.LabelEncoder()\n",
    "for column_name in X_val_cat:\n",
    "        if X_val_cat.dtype == object:\n",
    "            X_val_cat = le.fit_transform(X_val_cat)\n",
    "        else:\n",
    "            pass"
   ]
  },
  {
   "cell_type": "code",
   "execution_count": 24,
   "id": "cdb46b11",
   "metadata": {},
   "outputs": [],
   "source": [
    "# X_val_sub_cat\n",
    "from sklearn.preprocessing import LabelEncoder\n",
    "le = LabelEncoder()\n",
    "for column_name in X_val_sub_cat:\n",
    "        if X_val_sub_cat.dtype == object:\n",
    "            X_val_sub_cat = le.fit_transform(X_val_sub_cat)\n",
    "        else:\n",
    "            pass"
   ]
  },
  {
   "cell_type": "markdown",
   "id": "dbd30b7c",
   "metadata": {},
   "source": [
    "We Will Put the Encodeed Columns into the X_train and X_val"
   ]
  },
  {
   "cell_type": "code",
   "execution_count": 25,
   "id": "ae00ff32",
   "metadata": {},
   "outputs": [
    {
     "name": "stderr",
     "output_type": "stream",
     "text": [
      "C:\\Users\\pflee\\AppData\\Local\\Temp/ipykernel_9356/2289995650.py:1: SettingWithCopyWarning: \n",
      "A value is trying to be set on a copy of a slice from a DataFrame.\n",
      "Try using .loc[row_indexer,col_indexer] = value instead\n",
      "\n",
      "See the caveats in the documentation: https://pandas.pydata.org/pandas-docs/stable/user_guide/indexing.html#returning-a-view-versus-a-copy\n",
      "  X_train[\"category\"] = X_train_cat\n",
      "C:\\Users\\pflee\\AppData\\Local\\Temp/ipykernel_9356/2289995650.py:2: SettingWithCopyWarning: \n",
      "A value is trying to be set on a copy of a slice from a DataFrame.\n",
      "Try using .loc[row_indexer,col_indexer] = value instead\n",
      "\n",
      "See the caveats in the documentation: https://pandas.pydata.org/pandas-docs/stable/user_guide/indexing.html#returning-a-view-versus-a-copy\n",
      "  X_val[\"category\"] = X_val_cat\n",
      "C:\\Users\\pflee\\AppData\\Local\\Temp/ipykernel_9356/2289995650.py:3: SettingWithCopyWarning: \n",
      "A value is trying to be set on a copy of a slice from a DataFrame.\n",
      "Try using .loc[row_indexer,col_indexer] = value instead\n",
      "\n",
      "See the caveats in the documentation: https://pandas.pydata.org/pandas-docs/stable/user_guide/indexing.html#returning-a-view-versus-a-copy\n",
      "  X_train[\"sub_category\"] = X_train_sub_cat\n",
      "C:\\Users\\pflee\\AppData\\Local\\Temp/ipykernel_9356/2289995650.py:4: SettingWithCopyWarning: \n",
      "A value is trying to be set on a copy of a slice from a DataFrame.\n",
      "Try using .loc[row_indexer,col_indexer] = value instead\n",
      "\n",
      "See the caveats in the documentation: https://pandas.pydata.org/pandas-docs/stable/user_guide/indexing.html#returning-a-view-versus-a-copy\n",
      "  X_val[\"sub_category\"] = X_val_sub_cat\n"
     ]
    }
   ],
   "source": [
    "X_train[\"category\"] = X_train_cat \n",
    "X_val[\"category\"] = X_val_cat \n",
    "X_train[\"sub_category\"] = X_train_sub_cat\n",
    "X_val[\"sub_category\"] = X_val_sub_cat "
   ]
  },
  {
   "cell_type": "code",
   "execution_count": 26,
   "id": "be192779",
   "metadata": {},
   "outputs": [
    {
     "data": {
      "text/plain": [
       "2618     5\n",
       "3280     5\n",
       "5212     5\n",
       "4480    10\n",
       "472      6\n",
       "        ..\n",
       "6219     6\n",
       "5669     0\n",
       "5872    13\n",
       "968      3\n",
       "7824     4\n",
       "Name: category, Length: 6236, dtype: int32"
      ]
     },
     "execution_count": 26,
     "metadata": {},
     "output_type": "execute_result"
    }
   ],
   "source": [
    "X_train[\"category\"]"
   ]
  },
  {
   "cell_type": "code",
   "execution_count": 27,
   "id": "75040a81",
   "metadata": {},
   "outputs": [
    {
     "data": {
      "text/plain": [
       "2618     64\n",
       "3280     27\n",
       "5212     64\n",
       "4480     92\n",
       "472      78\n",
       "       ... \n",
       "6219      4\n",
       "5669     81\n",
       "5872    130\n",
       "968     103\n",
       "7824     96\n",
       "Name: sub_category, Length: 6236, dtype: int32"
      ]
     },
     "execution_count": 27,
     "metadata": {},
     "output_type": "execute_result"
    }
   ],
   "source": [
    "X_train[\"sub_category\"] "
   ]
  },
  {
   "cell_type": "code",
   "execution_count": 28,
   "id": "8e501456",
   "metadata": {},
   "outputs": [
    {
     "data": {
      "text/plain": [
       "9679    114\n",
       "7925    132\n",
       "7791    132\n",
       "9129      9\n",
       "7137    104\n",
       "       ... \n",
       "6459     55\n",
       "6145     50\n",
       "95       82\n",
       "6938    131\n",
       "8143     63\n",
       "Name: sub_category, Length: 3358, dtype: int32"
      ]
     },
     "execution_count": 28,
     "metadata": {},
     "output_type": "execute_result"
    }
   ],
   "source": [
    "X_val[\"sub_category\"] "
   ]
  },
  {
   "cell_type": "code",
   "execution_count": 29,
   "id": "9244508c",
   "metadata": {},
   "outputs": [
    {
     "data": {
      "text/plain": [
       "9679     7\n",
       "7925    10\n",
       "7791    10\n",
       "9129    12\n",
       "7137    10\n",
       "        ..\n",
       "6459    13\n",
       "6145    13\n",
       "95       3\n",
       "6938     3\n",
       "8143     5\n",
       "Name: category, Length: 3358, dtype: int32"
      ]
     },
     "execution_count": 29,
     "metadata": {},
     "output_type": "execute_result"
    }
   ],
   "source": [
    "X_val[\"category\"] "
   ]
  },
  {
   "cell_type": "markdown",
   "id": "c223d262",
   "metadata": {},
   "source": [
    "Use Validation Dataset to Extrate a List of Subcategory or Categories"
   ]
  },
  {
   "cell_type": "code",
   "execution_count": 33,
   "id": "88f9ef95",
   "metadata": {},
   "outputs": [
    {
     "data": {
      "text/plain": [
       "True"
      ]
     },
     "execution_count": 33,
     "metadata": {},
     "output_type": "execute_result"
    }
   ],
   "source": [
    "len(X_val[\"category\"]) == len(X_val_1[\"category\"])"
   ]
  },
  {
   "cell_type": "code",
   "execution_count": 34,
   "id": "93c86c25",
   "metadata": {},
   "outputs": [
    {
     "data": {
      "text/plain": [
       "True"
      ]
     },
     "execution_count": 34,
     "metadata": {},
     "output_type": "execute_result"
    }
   ],
   "source": [
    "len(X_val[\"sub_category\"]) == len(X_val_1[\"sub_category\"])"
   ]
  },
  {
   "cell_type": "markdown",
   "id": "93b5f2b6",
   "metadata": {},
   "source": [
    "Since Lengths Are the same, we can start doing the matching of X_train and X_val numbers with the strings of categories and subcategories"
   ]
  },
  {
   "cell_type": "code",
   "execution_count": 35,
   "id": "0caecebe",
   "metadata": {},
   "outputs": [
    {
     "data": {
      "text/plain": [
       "9679          spaces\n",
       "7925     world music\n",
       "7791     world music\n",
       "9129       art books\n",
       "7137            rock\n",
       "            ...     \n",
       "6459        hardware\n",
       "6145         gadgets\n",
       "95      performances\n",
       "6938       workshops\n",
       "8143         jewelry\n",
       "Name: sub_category, Length: 3358, dtype: object"
      ]
     },
     "execution_count": 35,
     "metadata": {},
     "output_type": "execute_result"
    }
   ],
   "source": [
    "# Here are teh string columns\n",
    "X_train_cat_backup \n",
    "X_train_sub_cat_backup\n",
    "X_val_cat_backup \n",
    "X_val_sub_cat_backup "
   ]
  },
  {
   "cell_type": "code",
   "execution_count": 36,
   "id": "1846d631",
   "metadata": {},
   "outputs": [
    {
     "data": {
      "text/plain": [
       "9679    114\n",
       "7925    132\n",
       "7791    132\n",
       "9129      9\n",
       "7137    104\n",
       "       ... \n",
       "6459     55\n",
       "6145     50\n",
       "95       82\n",
       "6938    131\n",
       "8143     63\n",
       "Name: sub_category, Length: 3358, dtype: int32"
      ]
     },
     "execution_count": 36,
     "metadata": {},
     "output_type": "execute_result"
    }
   ],
   "source": [
    "# Here are the number columns\n",
    "X_train[\"category\"] \n",
    "X_val[\"category\"] \n",
    "X_train[\"sub_category\"] \n",
    "X_val[\"sub_category\"]"
   ]
  },
  {
   "cell_type": "markdown",
   "id": "4df82a97",
   "metadata": {},
   "source": [
    "# We will use list comprehension with validation datasets"
   ]
  },
  {
   "cell_type": "code",
   "execution_count": 37,
   "id": "0375b3cc",
   "metadata": {},
   "outputs": [],
   "source": [
    "X_val_cat_string = X_val_cat_backup \n",
    "X_val_sub_cat_string = X_val_sub_cat_backup \n"
   ]
  },
  {
   "cell_type": "code",
   "execution_count": 46,
   "id": "f1ad5dea",
   "metadata": {},
   "outputs": [
    {
     "data": {
      "text/plain": [
       "9679          food\n",
       "7925         music\n",
       "7791         music\n",
       "9129    publishing\n",
       "7137         music\n",
       "           ...    \n",
       "6459    technology\n",
       "6145    technology\n",
       "95           dance\n",
       "6938         dance\n",
       "8143       fashion\n",
       "Name: category, Length: 3358, dtype: object"
      ]
     },
     "execution_count": 46,
     "metadata": {},
     "output_type": "execute_result"
    }
   ],
   "source": [
    "X_val_cat_backup "
   ]
  },
  {
   "cell_type": "code",
   "execution_count": 39,
   "id": "f57afec7",
   "metadata": {},
   "outputs": [
    {
     "data": {
      "text/plain": [
       "9679    114\n",
       "7925    132\n",
       "7791    132\n",
       "9129      9\n",
       "7137    104\n",
       "       ... \n",
       "6459     55\n",
       "6145     50\n",
       "95       82\n",
       "6938    131\n",
       "8143     63\n",
       "Name: sub_category, Length: 3358, dtype: int32"
      ]
     },
     "execution_count": 39,
     "metadata": {},
     "output_type": "execute_result"
    }
   ],
   "source": [
    "X_val[\"category\"] \n",
    "X_val[\"sub_category\"]"
   ]
  },
  {
   "cell_type": "code",
   "execution_count": 64,
   "id": "4920fe9d",
   "metadata": {},
   "outputs": [],
   "source": [
    "# DO NOT DO CARTESIAN PRODUCT\n",
    "# list_category = [[a,b] for a in X_val[\"category\"] for b in X_val_cat_string]\n",
    "\n",
    "\n",
    "df_val_match_sub = pd.concat([X_val_sub_cat_string, X_val[\"sub_category\"]], axis = 1)\n"
   ]
  },
  {
   "cell_type": "code",
   "execution_count": 65,
   "id": "d4fdb3b4",
   "metadata": {},
   "outputs": [],
   "source": [
    "df_val_match_sub = pd.DataFrame(df_val_match_sub )"
   ]
  },
  {
   "cell_type": "code",
   "execution_count": 76,
   "id": "d69a6875",
   "metadata": {},
   "outputs": [],
   "source": [
    "df_tuple_sub_index = df_val_match_sub.set_index([\"sub_category\"])"
   ]
  },
  {
   "cell_type": "code",
   "execution_count": 78,
   "id": "17a49108",
   "metadata": {},
   "outputs": [
    {
     "data": {
      "text/plain": [
       "list"
      ]
     },
     "execution_count": 78,
     "metadata": {},
     "output_type": "execute_result"
    }
   ],
   "source": [
    "type(list(df_tuple_sub_index.index))"
   ]
  },
  {
   "cell_type": "code",
   "execution_count": 80,
   "id": "71eb28b7",
   "metadata": {},
   "outputs": [],
   "source": [
    "sub_cat_labels = list(set(list(df_tuple_sub_index.index)))"
   ]
  },
  {
   "cell_type": "code",
   "execution_count": 81,
   "id": "3769452c",
   "metadata": {},
   "outputs": [
    {
     "data": {
      "text/plain": [
       "[('public art', 95),\n",
       " ('gadgets', 50),\n",
       " ('jewelry', 63),\n",
       " ('product design', 94),\n",
       " ('metal', 70),\n",
       " ('art books', 9),\n",
       " ('nonfiction', 78),\n",
       " ('anthologies', 5),\n",
       " ('candles', 15),\n",
       " ('food trucks', 48),\n",
       " ('kids', 64),\n",
       " ('video art', 124),\n",
       " ('performance art', 81),\n",
       " ('crochet', 28),\n",
       " ('diy', 30),\n",
       " ('painting', 79),\n",
       " ('childrenswear', 18),\n",
       " ('punk', 96),\n",
       " ('comic books', 22),\n",
       " ('playing cards', 87),\n",
       " ('workshops', 131),\n",
       " ('camera equipment', 14),\n",
       " ('sound', 112),\n",
       " ('apparel', 6),\n",
       " ('textiles', 118),\n",
       " ('places', 86),\n",
       " ('accessories', 1),\n",
       " ('spaces', 114),\n",
       " ('graphic novels', 54),\n",
       " ('makerspaces', 69),\n",
       " ('horror', 57),\n",
       " ('farms', 43),\n",
       " ('music videos', 74),\n",
       " ('pottery', 91),\n",
       " ('experimental', 37),\n",
       " ('stationery', 115),\n",
       " ('thrillers', 119),\n",
       " ('woodworking', 130),\n",
       " ('people', 80),\n",
       " ('apps', 7),\n",
       " ('plays', 88),\n",
       " ('world music', 132),\n",
       " ('calendars', 13),\n",
       " ('faith', 39),\n",
       " ('indie rock', 60),\n",
       " ('musical', 75),\n",
       " ('fantasy', 41),\n",
       " ('fabrication tools', 38),\n",
       " ('web', 127),\n",
       " ('zines', 134),\n",
       " (\"farmer's markets\", 42),\n",
       " ('flight', 47),\n",
       " ('digital art', 29),\n",
       " ('fine art', 46),\n",
       " ('couture', 27),\n",
       " ('classical music', 20),\n",
       " ('video', 123),\n",
       " ('country & folk', 26),\n",
       " ('romance', 105),\n",
       " ('cookbooks', 25),\n",
       " ('community gardens', 23),\n",
       " ('photobooks', 85),\n",
       " ('civic design', 19),\n",
       " ('television', 117),\n",
       " ('architecture', 8),\n",
       " ('hardware', 55),\n",
       " ('sculpture', 107),\n",
       " ('drama', 33),\n",
       " ('ceramics', 16),\n",
       " ('science fiction', 106),\n",
       " ('typography', 121),\n",
       " ('wearables', 126),\n",
       " ('illustration', 58),\n",
       " ('webseries', 129),\n",
       " ('blues', 12),\n",
       " ('literary journals', 67),\n",
       " ('footwear', 49),\n",
       " ('space exploration', 113),\n",
       " ('animation', 4),\n",
       " ('rock', 104),\n",
       " ('3d printing', 0),\n",
       " ('restaurants', 102),\n",
       " ('mixed media', 71),\n",
       " ('video games', 125),\n",
       " ('mobile games', 72),\n",
       " ('photo', 84),\n",
       " ('residencies', 101),\n",
       " ('comedy', 21),\n",
       " ('jazz', 62),\n",
       " ('events', 36),\n",
       " ('animals', 3),\n",
       " ('pop', 90),\n",
       " ('performances', 82),\n",
       " ('audio', 10),\n",
       " ('knitting', 65),\n",
       " ('electronic music', 35),\n",
       " ('conceptual art', 24),\n",
       " ('vegan', 122),\n",
       " ('live games', 68),\n",
       " ('print', 92),\n",
       " ('family', 40),\n",
       " (\"children's books\", 17),\n",
       " ('printing', 93),\n",
       " ('narrative film', 76),\n",
       " ('graphic design', 53),\n",
       " ('nature', 77),\n",
       " ('poetry', 89),\n",
       " ('action', 2),\n",
       " ('immersive', 59),\n",
       " ('glass', 52),\n",
       " ('documentary', 32),\n",
       " ('hip-hop', 56),\n",
       " ('movie theaters', 73),\n",
       " ('shorts', 108),\n",
       " ('festivals', 44),\n",
       " ('social practice', 110),\n",
       " ('fiction', 45),\n",
       " ('software', 111),\n",
       " ('ready-to-wear', 100),\n",
       " ('young adult', 133),\n",
       " ('bacon', 11),\n",
       " ('puzzles', 97),\n",
       " ('radio & podcasts', 99),\n",
       " ('latin', 66),\n",
       " ('tabletop games', 116),\n",
       " ('r&b', 98),\n",
       " ('interactive design', 61),\n",
       " ('translations', 120),\n",
       " ('webcomics', 128),\n",
       " ('gaming hardware', 51),\n",
       " ('diy electronics', 31),\n",
       " ('robots', 103),\n",
       " ('drinks', 34),\n",
       " ('periodicals', 83),\n",
       " ('small batch', 109)]"
      ]
     },
     "execution_count": 81,
     "metadata": {},
     "output_type": "execute_result"
    }
   ],
   "source": [
    "sub_cat_labels"
   ]
  },
  {
   "cell_type": "code",
   "execution_count": 88,
   "id": "dd40b04f",
   "metadata": {},
   "outputs": [],
   "source": [
    "df_val_match_cat = pd.concat([X_val_cat_backup , X_val[\"category\"]], axis = 1)"
   ]
  },
  {
   "cell_type": "code",
   "execution_count": 92,
   "id": "bee75543",
   "metadata": {},
   "outputs": [],
   "source": [
    "df_val_match_cat = df_val_match_cat.set_index(\"category\")"
   ]
  },
  {
   "cell_type": "code",
   "execution_count": 93,
   "id": "1fa3e29e",
   "metadata": {},
   "outputs": [
    {
     "data": {
      "text/plain": [
       "{('art', 0),\n",
       " ('comics', 1),\n",
       " ('crafts', 2),\n",
       " ('dance', 3),\n",
       " ('design', 4),\n",
       " ('fashion', 5),\n",
       " ('film & video', 6),\n",
       " ('food', 7),\n",
       " ('games', 8),\n",
       " ('journalism', 9),\n",
       " ('music', 10),\n",
       " ('photography', 11),\n",
       " ('publishing', 12),\n",
       " ('technology', 13),\n",
       " ('theater', 14)}"
      ]
     },
     "execution_count": 93,
     "metadata": {},
     "output_type": "execute_result"
    }
   ],
   "source": [
    "set(df_val_match_cat.index)"
   ]
  },
  {
   "cell_type": "markdown",
   "id": "7a0e29fc",
   "metadata": {},
   "source": [
    "#Do the Modeling"
   ]
  },
  {
   "cell_type": "code",
   "execution_count": 82,
   "id": "035d37a6",
   "metadata": {},
   "outputs": [
    {
     "name": "stdout",
     "output_type": "stream",
     "text": [
      "Training acc 1.0\n",
      "Validation acc 0.9874925550923168\n"
     ]
    }
   ],
   "source": [
    "rf = RandomForestClassifier(n_estimators=250, random_state=42, max_depth=32, max_leaf_nodes=3500, n_jobs=-1, max_samples=.8)\n",
    "\n",
    "model_rf = make_pipeline(SimpleImputer(strategy='constant'), \n",
    "                        rf)\n",
    "\n",
    "model_rf.fit(X_train, y_train)\n",
    "\n",
    "print('Training acc', accuracy_score(y_train, model_rf.predict(X_train)))\n",
    "print('Validation acc', accuracy_score(y_val, model_rf.predict(X_val)))"
   ]
  },
  {
   "cell_type": "code",
   "execution_count": 84,
   "id": "ba98c9a0",
   "metadata": {},
   "outputs": [
    {
     "name": "stdout",
     "output_type": "stream",
     "text": [
      "Collecting seaborn\n",
      "  Downloading seaborn-0.11.2-py3-none-any.whl (292 kB)\n",
      "Requirement already satisfied: pandas>=0.23 in c:\\users\\pflee\\.virtualenvs\\list_work-wp4fxmck\\lib\\site-packages (from seaborn) (1.3.2)\n",
      "Requirement already satisfied: scipy>=1.0 in c:\\users\\pflee\\.virtualenvs\\list_work-wp4fxmck\\lib\\site-packages (from seaborn) (1.7.1)\n",
      "Requirement already satisfied: numpy>=1.15 in c:\\users\\pflee\\.virtualenvs\\list_work-wp4fxmck\\lib\\site-packages (from seaborn) (1.20.3)\n",
      "Requirement already satisfied: matplotlib>=2.2 in c:\\users\\pflee\\.virtualenvs\\list_work-wp4fxmck\\lib\\site-packages (from seaborn) (3.4.3)\n",
      "Requirement already satisfied: pillow>=6.2.0 in c:\\users\\pflee\\.virtualenvs\\list_work-wp4fxmck\\lib\\site-packages (from matplotlib>=2.2->seaborn) (8.3.1)\n",
      "Requirement already satisfied: python-dateutil>=2.7 in c:\\users\\pflee\\.virtualenvs\\list_work-wp4fxmck\\lib\\site-packages (from matplotlib>=2.2->seaborn) (2.8.2)\n",
      "Requirement already satisfied: kiwisolver>=1.0.1 in c:\\users\\pflee\\.virtualenvs\\list_work-wp4fxmck\\lib\\site-packages (from matplotlib>=2.2->seaborn) (1.3.1)\n",
      "Requirement already satisfied: pyparsing>=2.2.1 in c:\\users\\pflee\\.virtualenvs\\list_work-wp4fxmck\\lib\\site-packages (from matplotlib>=2.2->seaborn) (2.4.7)\n",
      "Requirement already satisfied: cycler>=0.10 in c:\\users\\pflee\\.virtualenvs\\list_work-wp4fxmck\\lib\\site-packages (from matplotlib>=2.2->seaborn) (0.10.0)\n",
      "Requirement already satisfied: six in c:\\users\\pflee\\.virtualenvs\\list_work-wp4fxmck\\lib\\site-packages (from cycler>=0.10->matplotlib>=2.2->seaborn) (1.16.0)\n",
      "Requirement already satisfied: pytz>=2017.3 in c:\\users\\pflee\\.virtualenvs\\list_work-wp4fxmck\\lib\\site-packages (from pandas>=0.23->seaborn) (2021.1)\n",
      "Installing collected packages: seaborn\n",
      "Successfully installed seaborn-0.11.2\n"
     ]
    },
    {
     "data": {
      "text/plain": [
       "<AxesSubplot:xlabel='Reduction in Gini Impurity'>"
      ]
     },
     "execution_count": 84,
     "metadata": {},
     "output_type": "execute_result"
    },
    {
     "data": {
      "image/png": "[encoded data removed]",
      "text/plain": [
       "<Figure size 432x288 with 1 Axes>"
      ]
     },
     "metadata": {},
     "output_type": "display_data"
    }
   ],
   "source": [
    "!pip install seaborn\n",
    "import seaborn as sns\n",
    "import matplotlib.pyplot as plt\n",
    "bestimator = model_rf.named_steps['randomforestclassifier'].feature_importances_\n",
    "# importances = bestimator.named_steps['randomforestclassifier'].feature_importances_\n",
    "features = X_train.columns\n",
    "sns.set()\n",
    "feat_imp = pd.Series(bestimator, index=features).sort_values(ascending=False)\n",
    "# feat_imp.tail(10).plot(kind='barh')\n",
    "plt.xlabel('Reduction in Gini Impurity');\n",
    "# bestimator\n",
    "# features\n",
    "df_features = pd.DataFrame(feat_imp, columns=['Importance'])\n",
    "df_features['Importance'].sort_values(ascending=True).plot(kind=\"barh\")"
   ]
  },
  {
   "cell_type": "markdown",
   "id": "17d190f5",
   "metadata": {},
   "source": [
    "Get the Unique Values of the Categories and Subcategories"
   ]
  },
  {
   "cell_type": "code",
   "execution_count": 24,
   "id": "18d44f4c",
   "metadata": {},
   "outputs": [],
   "source": [
    "df_cat = pd.read_csv(\"code_for_category.csv\")\n",
    "df_sub_cat = pd.read_csv(\"sub_category.csv\")"
   ]
  },
  {
   "cell_type": "code",
   "execution_count": 25,
   "id": "e1975c9a",
   "metadata": {},
   "outputs": [],
   "source": [
    "set_category = set(df_cat.index)\n",
    "set_sub_category = set(df_sub_cat.index)"
   ]
  },
  {
   "cell_type": "code",
   "execution_count": null,
   "id": "723e5a5f",
   "metadata": {},
   "outputs": [],
   "source": []
  },
  {
   "cell_type": "markdown",
   "id": "7db089e2",
   "metadata": {},
   "source": [
    "Look Further into the Analyses"
   ]
  },
  {
   "cell_type": "code",
   "execution_count": 85,
   "id": "73812c52",
   "metadata": {},
   "outputs": [
    {
     "name": "stdout",
     "output_type": "stream",
     "text": [
      "              precision    recall  f1-score   support\n",
      "\n",
      "           0       0.99      0.97      0.98      1213\n",
      "           1       0.98      1.00      0.99      2145\n",
      "\n",
      "    accuracy                           0.99      3358\n",
      "   macro avg       0.99      0.98      0.99      3358\n",
      "weighted avg       0.99      0.99      0.99      3358\n",
      "\n"
     ]
    }
   ],
   "source": [
    "print(classification_report(y_val, model_rf.predict(X_val)))"
   ]
  },
  {
   "cell_type": "code",
   "execution_count": 86,
   "id": "8c59ade8",
   "metadata": {},
   "outputs": [
    {
     "data": {
      "image/png": "[encoded data removed]",
      "text/plain": [
       "<Figure size 576x576 with 2 Axes>"
      ]
     },
     "metadata": {},
     "output_type": "display_data"
    }
   ],
   "source": [
    "sns.set(rc={\"figure.figsize\":(8, 8)})\n",
    "\n",
    "plot_confusion_matrix(model_rf, \n",
    "                      X_val, \n",
    "                      y_val,\n",
    "                      values_format='.0f')\n",
    "                      \n",
    "plt.xticks(rotation = 45)\n",
    "# from sklearn.pipeline import make_pipeline\n",
    "plt.show()"
   ]
  },
  {
   "cell_type": "code",
   "execution_count": 29,
   "id": "b1cffc07",
   "metadata": {},
   "outputs": [],
   "source": [
    "# # Code on Partial Dependence\n",
    "!pip install matplotlib\n",
    "!pip install pdpbox\n",
    "from pdpbox.pdp import pdp_isolate, pdp_plot, pdp_interact, pdp_interact_plot\n",
    "\n",
    "# # ONE FEATURE\n",
    "feature = \"backers_count\"\n",
    "\n",
    "isolate = pdp_isolate(\n",
    "    model_rf,\n",
    "    dataset = X_val,\n",
    "    model_features = X_val.columns,\n",
    "    feature=feature)\n",
    "pdp_plot(isolate, feature_name=feature)\n",
    "pdp_interact_plot(isolate, plot_type='grid', feature_names=feature)\n",
    "\n",
    "# Two Features as Grid\n",
    "features = [\"backers_count\", \"usd_pledged\"]\n",
    "\n",
    "interact = pdp_interact(\n",
    "    model_rf,\n",
    "    dataset = X_val,\n",
    "    model_features = X_val.columns,\n",
    "    features=features\n",
    ")\n",
    "\n",
    "pdp_interact_plot(interact, plot_type='grid', feature_names=features)\n",
    "\n",
    "\n",
    "# from pdpbox import pdp, get_dataset\n",
    "\n",
    "# test_otto = get_dataset.otto()\n",
    "# otto_data = test_otto['data']\n",
    "# otto_features = test_otto['features']\n",
    "# otto_model = test_otto['rf_model']\n",
    "# otto_target = test_otto['target']\n",
    "\n",
    "# pdp_feat_67_rf = pdp.pdp_isolate(model=otto_model,\n",
    "#                                  dataset=otto_data,\n",
    "#                                  model_features=otto_features,\n",
    "#                                  feature='feat_67')\n",
    "# fig, axes = pdp.pdp_plot(pdp_isolate_out=pdp_feat_67_rf,\n",
    "#                          feature_name='feat_67',\n",
    "#                          center=True,\n",
    "#                          x_quantile=True,\n",
    "#                          ncols=3,\n",
    "#                          plot_lines=True,\n",
    "#                          frac_to_plot=100)\n",
    "\n"
   ]
  },
  {
   "cell_type": "code",
   "execution_count": 30,
   "id": "3a3f893f",
   "metadata": {},
   "outputs": [],
   "source": [
    "# import xgboost\n",
    "# import shap\n",
    "\n",
    "# # train XGBoost model\n",
    "# # X,y = shap.datasets.adult()\n",
    "# # model = xgboost.XGBClassifier().fit(X, y)\n",
    "\n",
    "# # compute SHAP values\n",
    "# explainer = shap.Explainer(model_rf, X_val)\n",
    "# shap_values = explainer(X_val)\n",
    "\n",
    "\n",
    "# shap.plots.waterfall(shap_values[0])\n"
   ]
  },
  {
   "cell_type": "markdown",
   "id": "1b179b8b",
   "metadata": {},
   "source": [
    "Let's just use Random Forest Classifier since all models overfit due to data structure or data leakage issues...we need more features to tell our stories. "
   ]
  },
  {
   "cell_type": "code",
   "execution_count": 87,
   "id": "925931f7",
   "metadata": {},
   "outputs": [
    {
     "data": {
      "text/plain": [
       "['model_rf_label']"
      ]
     },
     "execution_count": 87,
     "metadata": {},
     "output_type": "execute_result"
    }
   ],
   "source": [
    "from joblib import dump\n",
    "dump(model_rf, \"model_rf_label\", compress=True)"
   ]
  },
  {
   "cell_type": "code",
   "execution_count": 33,
   "id": "92d773cb",
   "metadata": {},
   "outputs": [],
   "source": [
    "from joblib import load\n",
    "model = load('model_rf_3')"
   ]
  },
  {
   "cell_type": "code",
   "execution_count": 34,
   "id": "277139f3",
   "metadata": {},
   "outputs": [
    {
     "data": {
      "text/plain": [
       "array([0, 0, 0, ..., 1, 1, 1], dtype=int64)"
      ]
     },
     "execution_count": 34,
     "metadata": {},
     "output_type": "execute_result"
    }
   ],
   "source": [
    "model.predict(X_val)"
   ]
  },
  {
   "cell_type": "code",
   "execution_count": 35,
   "id": "b0ee5b6d",
   "metadata": {},
   "outputs": [
    {
     "data": {
      "text/plain": [
       "array([[0.984, 0.016],\n",
       "       [0.992, 0.008],\n",
       "       [0.912, 0.088],\n",
       "       ...,\n",
       "       [0.   , 1.   ],\n",
       "       [0.172, 0.828],\n",
       "       [0.004, 0.996]])"
      ]
     },
     "execution_count": 35,
     "metadata": {},
     "output_type": "execute_result"
    }
   ],
   "source": [
    "model.predict_proba(X_val)"
   ]
  },
  {
   "cell_type": "code",
   "execution_count": 78,
   "id": "8a1c8431",
   "metadata": {},
   "outputs": [
    {
     "name": "stderr",
     "output_type": "stream",
     "text": [
      "The use of label encoder in XGBClassifier is deprecated and will be removed in a future release. To remove this warning, do the following: 1) Pass option use_label_encoder=False when constructing XGBClassifier object; and 2) Encode your labels (y) as integers starting with 0, i.e. 0, 1, 2, ..., [num_class - 1].\n"
     ]
    },
    {
     "name": "stdout",
     "output_type": "stream",
     "text": [
      "[17:44:19] WARNING: C:/Users/Administrator/workspace/xgboost-win64_release_1.4.0/src/learner.cc:1095: Starting in XGBoost 1.3.0, the default evaluation metric used with the objective 'binary:logistic' was changed from 'error' to 'logloss'. Explicitly set eval_metric if you'd like to restore the old behavior.\n",
      "Training acc 1.0\n",
      "Validation acc 0.9949579831932773\n"
     ]
    }
   ],
   "source": [
    "# XGBoost\n",
    "\n",
    "model_xgb = make_pipeline(SimpleImputer(strategy=\"mean\"),\n",
    "                       XGBClassifier(random_state=42))\n",
    "\n",
    "model_xgb.fit(X_train, y_train)\n",
    "\n",
    "print('Training acc', accuracy_score(y_train, model_xgb.predict(X_train)))\n",
    "print('Validation acc', accuracy_score(y_val, model_xgb.predict(X_val)))"
   ]
  },
  {
   "cell_type": "code",
   "execution_count": 79,
   "id": "e7a0891d",
   "metadata": {},
   "outputs": [
    {
     "data": {
      "text/plain": [
       "<AxesSubplot:xlabel='Reduction in Gini Impurity'>"
      ]
     },
     "execution_count": 79,
     "metadata": {},
     "output_type": "execute_result"
    },
    {
     "data": {
      "image/png": "[encoded data removed]",
      "text/plain": [
       "<Figure size 576x576 with 1 Axes>"
      ]
     },
     "metadata": {},
     "output_type": "display_data"
    }
   ],
   "source": [
    "bestimator = model_xgb.named_steps['xgbclassifier'].feature_importances_\n",
    "# importances = bestimator.named_steps['randomforestclassifier'].feature_importances_\n",
    "features = X_train.columns\n",
    "sns.set()\n",
    "feat_imp = pd.Series(bestimator, index=features).sort_values(ascending=False)\n",
    "# feat_imp.tail(10).plot(kind='barh')\n",
    "plt.xlabel('Reduction in Gini Impurity');\n",
    "# bestimator\n",
    "# features\n",
    "df_features = pd.DataFrame(feat_imp, columns=['Importance'])\n",
    "df_features['Importance'].sort_values(ascending=True).plot(kind=\"barh\")"
   ]
  },
  {
   "cell_type": "code",
   "execution_count": 80,
   "id": "b652ded1",
   "metadata": {},
   "outputs": [
    {
     "name": "stdout",
     "output_type": "stream",
     "text": [
      "Training acc 0.9962281231140615\n",
      "Validation acc 0.9890756302521009\n"
     ]
    }
   ],
   "source": [
    "model_gb = make_pipeline(SimpleImputer(strategy=\"mean\"),\n",
    "                       GradientBoostingClassifier(random_state=42))\n",
    "\n",
    "model_gb.fit(X_train, y_train)\n",
    "\n",
    "print('Training acc', accuracy_score(y_train, model_gb.predict(X_train)))\n",
    "print('Validation acc', accuracy_score(y_val, model_gb.predict(X_val)))"
   ]
  },
  {
   "cell_type": "code",
   "execution_count": 69,
   "id": "152e013e",
   "metadata": {},
   "outputs": [
    {
     "data": {
      "text/plain": [
       "<AxesSubplot:xlabel='Reduction in Gini Impurity'>"
      ]
     },
     "execution_count": 69,
     "metadata": {},
     "output_type": "execute_result"
    },
    {
     "data": {
      "image/png": "[encoded data removed]",
      "text/plain": [
       "<Figure size 432x288 with 1 Axes>"
      ]
     },
     "metadata": {},
     "output_type": "display_data"
    }
   ],
   "source": [
    "bestimator = model_gb.named_steps['gradientboostingclassifier'].feature_importances_\n",
    "bestimator\n",
    "# importances = bestimator.named_steps['gradientboostingclassifier'].feature_importances_\n",
    "features = X_train.columns\n",
    "feat_imp = pd.Series(bestimator, index=features).sort_values(ascending=False)\n",
    "# feat_imp.tail(10).plot(kind='barh')\n",
    "plt.xlabel('Reduction in Gini Impurity');\n",
    "# bestimator\n",
    "# features\n",
    "df_features = pd.DataFrame(feat_imp, columns=['Importance'])\n",
    "df_features['Importance'].sort_values(ascending=True).plot(kind=\"barh\")"
   ]
  },
  {
   "cell_type": "markdown",
   "id": "c8993fe6",
   "metadata": {},
   "source": [
    "We can only use random forest classifier because it is the only model using more than 5 features in this easily overfitting scenario"
   ]
  }
 ],
 "metadata": {
  "kernelspec": {
   "display_name": "Python 3 (ipykernel)",
   "language": "python",
   "name": "python3"
  },
  "language_info": {
   "codemirror_mode": {
    "name": "ipython",
    "version": 3
   },
   "file_extension": ".py",
   "mimetype": "text/x-python",
   "name": "python",
   "nbconvert_exporter": "python",
   "pygments_lexer": "ipython3",
   "version": "3.9.5"
  }
 },
 "nbformat": 4,
 "nbformat_minor": 5
}
