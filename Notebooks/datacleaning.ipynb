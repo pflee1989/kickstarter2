{
 "cells": [
  {
   "cell_type": "code",
   "execution_count": 1,
   "metadata": {},
   "outputs": [],
   "source": [
    "import pandas as pd\n"
   ]
  },
  {
   "cell_type": "code",
   "execution_count": 2,
   "metadata": {},
   "outputs": [],
   "source": [
    "df = pd.read_csv(\"./Kickstarter_2021-05-13T03_20_03_813Z/new.csv\")"
   ]
  },
  {
   "cell_type": "code",
   "execution_count": 3,
   "metadata": {},
   "outputs": [
    {
     "data": {
      "text/plain": [
       "(224457, 39)"
      ]
     },
     "execution_count": 3,
     "metadata": {},
     "output_type": "execute_result"
    }
   ],
   "source": [
    "df.shape"
   ]
  },
  {
   "cell_type": "code",
   "execution_count": 4,
   "metadata": {},
   "outputs": [
    {
     "name": "stdout",
     "output_type": "stream",
     "text": [
      "<class 'pandas.core.frame.DataFrame'>\n",
      "RangeIndex: 224457 entries, 0 to 224456\n",
      "Data columns (total 39 columns):\n",
      " #   Column                    Non-Null Count   Dtype  \n",
      "---  ------                    --------------   -----  \n",
      " 0   backers_count             224457 non-null  int64  \n",
      " 1   blurb                     224449 non-null  object \n",
      " 2   category                  224457 non-null  object \n",
      " 3   converted_pledged_amount  224457 non-null  int64  \n",
      " 4   country                   224457 non-null  object \n",
      " 5   country_displayable_name  224457 non-null  object \n",
      " 6   created_at                224457 non-null  int64  \n",
      " 7   creator                   224457 non-null  object \n",
      " 8   currency                  224457 non-null  object \n",
      " 9   currency_symbol           224457 non-null  object \n",
      " 10  currency_trailing_code    224457 non-null  bool   \n",
      " 11  current_currency          224457 non-null  object \n",
      " 12  deadline                  224457 non-null  int64  \n",
      " 13  disable_communication     224457 non-null  bool   \n",
      " 14  friends                   72 non-null      object \n",
      " 15  fx_rate                   224457 non-null  float64\n",
      " 16  goal                      224457 non-null  float64\n",
      " 17  id                        224457 non-null  int64  \n",
      " 18  is_backing                72 non-null      object \n",
      " 19  is_starrable              224457 non-null  bool   \n",
      " 20  is_starred                72 non-null      object \n",
      " 21  launched_at               224457 non-null  int64  \n",
      " 22  location                  224245 non-null  object \n",
      " 23  name                      224457 non-null  object \n",
      " 24  permissions               72 non-null      object \n",
      " 25  photo                     224457 non-null  object \n",
      " 26  pledged                   224457 non-null  float64\n",
      " 27  profile                   224457 non-null  object \n",
      " 28  slug                      224457 non-null  object \n",
      " 29  source_url                224457 non-null  object \n",
      " 30  spotlight                 224457 non-null  bool   \n",
      " 31  staff_pick                224457 non-null  bool   \n",
      " 32  state                     224457 non-null  object \n",
      " 33  state_changed_at          224457 non-null  int64  \n",
      " 34  static_usd_rate           224457 non-null  float64\n",
      " 35  urls                      224457 non-null  object \n",
      " 36  usd_exchange_rate         224457 non-null  float64\n",
      " 37  usd_pledged               224457 non-null  float64\n",
      " 38  usd_type                  224325 non-null  object \n",
      "dtypes: bool(5), float64(6), int64(7), object(21)\n",
      "memory usage: 59.3+ MB\n"
     ]
    }
   ],
   "source": [
    "df.info()"
   ]
  },
  {
   "cell_type": "code",
   "execution_count": 5,
   "metadata": {},
   "outputs": [
    {
     "data": {
      "text/html": [
       "<div>\n",
       "<style scoped>\n",
       "    .dataframe tbody tr th:only-of-type {\n",
       "        vertical-align: middle;\n",
       "    }\n",
       "\n",
       "    .dataframe tbody tr th {\n",
       "        vertical-align: top;\n",
       "    }\n",
       "\n",
       "    .dataframe thead th {\n",
       "        text-align: right;\n",
       "    }\n",
       "</style>\n",
       "<table border=\"1\" class=\"dataframe\">\n",
       "  <thead>\n",
       "    <tr style=\"text-align: right;\">\n",
       "      <th></th>\n",
       "      <th>backers_count</th>\n",
       "      <th>blurb</th>\n",
       "      <th>category</th>\n",
       "      <th>converted_pledged_amount</th>\n",
       "      <th>country</th>\n",
       "      <th>country_displayable_name</th>\n",
       "      <th>created_at</th>\n",
       "      <th>creator</th>\n",
       "      <th>currency</th>\n",
       "      <th>currency_symbol</th>\n",
       "      <th>...</th>\n",
       "      <th>source_url</th>\n",
       "      <th>spotlight</th>\n",
       "      <th>staff_pick</th>\n",
       "      <th>state</th>\n",
       "      <th>state_changed_at</th>\n",
       "      <th>static_usd_rate</th>\n",
       "      <th>urls</th>\n",
       "      <th>usd_exchange_rate</th>\n",
       "      <th>usd_pledged</th>\n",
       "      <th>usd_type</th>\n",
       "    </tr>\n",
       "  </thead>\n",
       "  <tbody>\n",
       "    <tr>\n",
       "      <th>0</th>\n",
       "      <td>63</td>\n",
       "      <td>A Steve Lafler graphic novel</td>\n",
       "      <td>{\"id\":252,\"name\":\"Graphic Novels\",\"analytics_n...</td>\n",
       "      <td>1942</td>\n",
       "      <td>US</td>\n",
       "      <td>the United States</td>\n",
       "      <td>1598551608</td>\n",
       "      <td>{\"id\":170366277,\"name\":\"Steve Lafler\",\"slug\":\"...</td>\n",
       "      <td>USD</td>\n",
       "      <td>$</td>\n",
       "      <td>...</td>\n",
       "      <td>https://www.kickstarter.com/discover/categorie...</td>\n",
       "      <td>True</td>\n",
       "      <td>False</td>\n",
       "      <td>successful</td>\n",
       "      <td>1600930801</td>\n",
       "      <td>1.0</td>\n",
       "      <td>{\"web\":{\"project\":\"https://www.kickstarter.com...</td>\n",
       "      <td>1.0</td>\n",
       "      <td>1942.0</td>\n",
       "      <td>international</td>\n",
       "    </tr>\n",
       "    <tr>\n",
       "      <th>1</th>\n",
       "      <td>132</td>\n",
       "      <td>What happens when two drug-fueled lowlifes fin...</td>\n",
       "      <td>{\"id\":252,\"name\":\"Graphic Novels\",\"analytics_n...</td>\n",
       "      <td>3097</td>\n",
       "      <td>US</td>\n",
       "      <td>the United States</td>\n",
       "      <td>1484592440</td>\n",
       "      <td>{\"id\":1492206329,\"name\":\"David M. Brown\",\"slug...</td>\n",
       "      <td>USD</td>\n",
       "      <td>$</td>\n",
       "      <td>...</td>\n",
       "      <td>https://www.kickstarter.com/discover/categorie...</td>\n",
       "      <td>True</td>\n",
       "      <td>False</td>\n",
       "      <td>successful</td>\n",
       "      <td>1489672994</td>\n",
       "      <td>1.0</td>\n",
       "      <td>{\"web\":{\"project\":\"https://www.kickstarter.com...</td>\n",
       "      <td>1.0</td>\n",
       "      <td>3097.0</td>\n",
       "      <td>international</td>\n",
       "    </tr>\n",
       "  </tbody>\n",
       "</table>\n",
       "<p>2 rows × 39 columns</p>\n",
       "</div>"
      ],
      "text/plain": [
       "   backers_count                                              blurb  \\\n",
       "0             63                       A Steve Lafler graphic novel   \n",
       "1            132  What happens when two drug-fueled lowlifes fin...   \n",
       "\n",
       "                                            category  \\\n",
       "0  {\"id\":252,\"name\":\"Graphic Novels\",\"analytics_n...   \n",
       "1  {\"id\":252,\"name\":\"Graphic Novels\",\"analytics_n...   \n",
       "\n",
       "   converted_pledged_amount country country_displayable_name  created_at  \\\n",
       "0                      1942      US        the United States  1598551608   \n",
       "1                      3097      US        the United States  1484592440   \n",
       "\n",
       "                                             creator currency currency_symbol  \\\n",
       "0  {\"id\":170366277,\"name\":\"Steve Lafler\",\"slug\":\"...      USD               $   \n",
       "1  {\"id\":1492206329,\"name\":\"David M. Brown\",\"slug...      USD               $   \n",
       "\n",
       "   ...                                         source_url spotlight  \\\n",
       "0  ...  https://www.kickstarter.com/discover/categorie...      True   \n",
       "1  ...  https://www.kickstarter.com/discover/categorie...      True   \n",
       "\n",
       "   staff_pick       state state_changed_at  static_usd_rate  \\\n",
       "0       False  successful       1600930801              1.0   \n",
       "1       False  successful       1489672994              1.0   \n",
       "\n",
       "                                                urls  usd_exchange_rate  \\\n",
       "0  {\"web\":{\"project\":\"https://www.kickstarter.com...                1.0   \n",
       "1  {\"web\":{\"project\":\"https://www.kickstarter.com...                1.0   \n",
       "\n",
       "  usd_pledged       usd_type  \n",
       "0      1942.0  international  \n",
       "1      3097.0  international  \n",
       "\n",
       "[2 rows x 39 columns]"
      ]
     },
     "execution_count": 5,
     "metadata": {},
     "output_type": "execute_result"
    }
   ],
   "source": [
    "df.head(2)"
   ]
  },
  {
   "cell_type": "code",
   "execution_count": 6,
   "metadata": {},
   "outputs": [
    {
     "data": {
      "text/plain": [
       "backers_count                    0\n",
       "blurb                            8\n",
       "category                         0\n",
       "converted_pledged_amount         0\n",
       "country                          0\n",
       "country_displayable_name         0\n",
       "created_at                       0\n",
       "creator                          0\n",
       "currency                         0\n",
       "currency_symbol                  0\n",
       "currency_trailing_code           0\n",
       "current_currency                 0\n",
       "deadline                         0\n",
       "disable_communication            0\n",
       "friends                     224385\n",
       "fx_rate                          0\n",
       "goal                             0\n",
       "id                               0\n",
       "is_backing                  224385\n",
       "is_starrable                     0\n",
       "is_starred                  224385\n",
       "launched_at                      0\n",
       "location                       212\n",
       "name                             0\n",
       "permissions                 224385\n",
       "photo                            0\n",
       "pledged                          0\n",
       "profile                          0\n",
       "slug                             0\n",
       "source_url                       0\n",
       "spotlight                        0\n",
       "staff_pick                       0\n",
       "state                            0\n",
       "state_changed_at                 0\n",
       "static_usd_rate                  0\n",
       "urls                             0\n",
       "usd_exchange_rate                0\n",
       "usd_pledged                      0\n",
       "usd_type                       132\n",
       "dtype: int64"
      ]
     },
     "execution_count": 6,
     "metadata": {},
     "output_type": "execute_result"
    }
   ],
   "source": [
    "#checking for null values\n",
    "df.isnull().sum()"
   ]
  },
  {
   "cell_type": "code",
   "execution_count": 7,
   "metadata": {},
   "outputs": [],
   "source": [
    "# Columns with null values and high cardinality\n",
    "drop_cols = ['friends','is_backing','usd_type','is_starred','permissions','location','country_displayable_name','currency_symbol','fx_rate','creator','converted_pledged_amount','urls','source_url','slug','photo','profile','currency','currency_trailing_code','current_currency','static_usd_rate','disable_communication','is_starrable']\n",
    "\n",
    "df = df.drop(columns=drop_cols)"
   ]
  },
  {
   "cell_type": "code",
   "execution_count": 8,
   "metadata": {},
   "outputs": [
    {
     "data": {
      "text/plain": [
       "Index(['backers_count', 'blurb', 'category', 'country', 'created_at',\n",
       "       'deadline', 'goal', 'id', 'launched_at', 'name', 'pledged', 'spotlight',\n",
       "       'staff_pick', 'state', 'state_changed_at', 'usd_exchange_rate',\n",
       "       'usd_pledged'],\n",
       "      dtype='object')"
      ]
     },
     "execution_count": 8,
     "metadata": {},
     "output_type": "execute_result"
    }
   ],
   "source": [
    "df.columns"
   ]
  },
  {
   "cell_type": "code",
   "execution_count": 9,
   "metadata": {},
   "outputs": [
    {
     "data": {
      "text/plain": [
       "backers_count        0\n",
       "blurb                8\n",
       "category             0\n",
       "country              0\n",
       "created_at           0\n",
       "deadline             0\n",
       "goal                 0\n",
       "id                   0\n",
       "launched_at          0\n",
       "name                 0\n",
       "pledged              0\n",
       "spotlight            0\n",
       "staff_pick           0\n",
       "state                0\n",
       "state_changed_at     0\n",
       "usd_exchange_rate    0\n",
       "usd_pledged          0\n",
       "dtype: int64"
      ]
     },
     "execution_count": 9,
     "metadata": {},
     "output_type": "execute_result"
    }
   ],
   "source": [
    "#checking for null values after feature engineering\n",
    "df.isnull().sum()"
   ]
  },
  {
   "cell_type": "code",
   "execution_count": 10,
   "metadata": {},
   "outputs": [
    {
     "data": {
      "text/html": [
       "<div>\n",
       "<style scoped>\n",
       "    .dataframe tbody tr th:only-of-type {\n",
       "        vertical-align: middle;\n",
       "    }\n",
       "\n",
       "    .dataframe tbody tr th {\n",
       "        vertical-align: top;\n",
       "    }\n",
       "\n",
       "    .dataframe thead th {\n",
       "        text-align: right;\n",
       "    }\n",
       "</style>\n",
       "<table border=\"1\" class=\"dataframe\">\n",
       "  <thead>\n",
       "    <tr style=\"text-align: right;\">\n",
       "      <th></th>\n",
       "      <th>backers_count</th>\n",
       "      <th>blurb</th>\n",
       "      <th>category</th>\n",
       "      <th>country</th>\n",
       "      <th>created_at</th>\n",
       "      <th>deadline</th>\n",
       "      <th>goal</th>\n",
       "      <th>id</th>\n",
       "      <th>launched_at</th>\n",
       "      <th>name</th>\n",
       "      <th>pledged</th>\n",
       "      <th>spotlight</th>\n",
       "      <th>staff_pick</th>\n",
       "      <th>state</th>\n",
       "      <th>state_changed_at</th>\n",
       "      <th>usd_exchange_rate</th>\n",
       "      <th>usd_pledged</th>\n",
       "    </tr>\n",
       "  </thead>\n",
       "  <tbody>\n",
       "    <tr>\n",
       "      <th>6115</th>\n",
       "      <td>2</td>\n",
       "      <td>NaN</td>\n",
       "      <td>{\"id\":351,\"name\":\"Printing\",\"analytics_name\":\"...</td>\n",
       "      <td>US</td>\n",
       "      <td>1406991938</td>\n",
       "      <td>1408334400</td>\n",
       "      <td>100.0</td>\n",
       "      <td>233547398</td>\n",
       "      <td>1407441222</td>\n",
       "      <td>Vending Machine (Canceled)</td>\n",
       "      <td>20.0</td>\n",
       "      <td>False</td>\n",
       "      <td>False</td>\n",
       "      <td>canceled</td>\n",
       "      <td>1408333920</td>\n",
       "      <td>1.000000</td>\n",
       "      <td>20.000000</td>\n",
       "    </tr>\n",
       "    <tr>\n",
       "      <th>6784</th>\n",
       "      <td>0</td>\n",
       "      <td>NaN</td>\n",
       "      <td>{\"id\":286,\"name\":\"Spaces\",\"analytics_name\":\"Sp...</td>\n",
       "      <td>US</td>\n",
       "      <td>1449537429</td>\n",
       "      <td>1452142672</td>\n",
       "      <td>1500000.0</td>\n",
       "      <td>272079457</td>\n",
       "      <td>1449550672</td>\n",
       "      <td>N/A (Canceled)</td>\n",
       "      <td>0.0</td>\n",
       "      <td>False</td>\n",
       "      <td>False</td>\n",
       "      <td>canceled</td>\n",
       "      <td>1449571384</td>\n",
       "      <td>1.000000</td>\n",
       "      <td>0.000000</td>\n",
       "    </tr>\n",
       "    <tr>\n",
       "      <th>15870</th>\n",
       "      <td>0</td>\n",
       "      <td>NaN</td>\n",
       "      <td>{\"id\":311,\"name\":\"Food Trucks\",\"analytics_name...</td>\n",
       "      <td>US</td>\n",
       "      <td>1473363868</td>\n",
       "      <td>1475959978</td>\n",
       "      <td>15000.0</td>\n",
       "      <td>899643147</td>\n",
       "      <td>1473367978</td>\n",
       "      <td>N/A (Canceled)</td>\n",
       "      <td>0.0</td>\n",
       "      <td>False</td>\n",
       "      <td>False</td>\n",
       "      <td>canceled</td>\n",
       "      <td>1473968146</td>\n",
       "      <td>1.000000</td>\n",
       "      <td>0.000000</td>\n",
       "    </tr>\n",
       "    <tr>\n",
       "      <th>33540</th>\n",
       "      <td>242</td>\n",
       "      <td>NaN</td>\n",
       "      <td>{\"id\":339,\"name\":\"Sound\",\"analytics_name\":\"Sou...</td>\n",
       "      <td>GB</td>\n",
       "      <td>1435830664</td>\n",
       "      <td>1446209511</td>\n",
       "      <td>60000.0</td>\n",
       "      <td>626888806</td>\n",
       "      <td>1443617511</td>\n",
       "      <td>Star Wars Bluetooth Speakers (Canceled)</td>\n",
       "      <td>36058.0</td>\n",
       "      <td>False</td>\n",
       "      <td>False</td>\n",
       "      <td>canceled</td>\n",
       "      <td>1443825021</td>\n",
       "      <td>1.514213</td>\n",
       "      <td>54676.079907</td>\n",
       "    </tr>\n",
       "    <tr>\n",
       "      <th>65114</th>\n",
       "      <td>0</td>\n",
       "      <td>NaN</td>\n",
       "      <td>{\"id\":20,\"name\":\"Conceptual Art\",\"analytics_na...</td>\n",
       "      <td>US</td>\n",
       "      <td>1424103554</td>\n",
       "      <td>1427901540</td>\n",
       "      <td>100000.0</td>\n",
       "      <td>1879498871</td>\n",
       "      <td>1424210815</td>\n",
       "      <td>N/A (Canceled)</td>\n",
       "      <td>0.0</td>\n",
       "      <td>False</td>\n",
       "      <td>False</td>\n",
       "      <td>canceled</td>\n",
       "      <td>1424449267</td>\n",
       "      <td>1.000000</td>\n",
       "      <td>0.000000</td>\n",
       "    </tr>\n",
       "    <tr>\n",
       "      <th>132712</th>\n",
       "      <td>0</td>\n",
       "      <td>NaN</td>\n",
       "      <td>{\"id\":20,\"name\":\"Conceptual Art\",\"analytics_na...</td>\n",
       "      <td>US</td>\n",
       "      <td>1331063276</td>\n",
       "      <td>1335042707</td>\n",
       "      <td>50000.0</td>\n",
       "      <td>1224405542</td>\n",
       "      <td>1331158307</td>\n",
       "      <td>N/A (Canceled)</td>\n",
       "      <td>0.0</td>\n",
       "      <td>False</td>\n",
       "      <td>False</td>\n",
       "      <td>canceled</td>\n",
       "      <td>1331581327</td>\n",
       "      <td>1.000000</td>\n",
       "      <td>0.000000</td>\n",
       "    </tr>\n",
       "    <tr>\n",
       "      <th>132878</th>\n",
       "      <td>0</td>\n",
       "      <td>NaN</td>\n",
       "      <td>{\"id\":21,\"name\":\"Digital Art\",\"analytics_name\"...</td>\n",
       "      <td>US</td>\n",
       "      <td>1509679461</td>\n",
       "      <td>1515800048</td>\n",
       "      <td>40000.0</td>\n",
       "      <td>1077399482</td>\n",
       "      <td>1510616048</td>\n",
       "      <td>awlsies</td>\n",
       "      <td>0.0</td>\n",
       "      <td>False</td>\n",
       "      <td>False</td>\n",
       "      <td>failed</td>\n",
       "      <td>1515800048</td>\n",
       "      <td>1.000000</td>\n",
       "      <td>0.000000</td>\n",
       "    </tr>\n",
       "    <tr>\n",
       "      <th>134009</th>\n",
       "      <td>39</td>\n",
       "      <td>NaN</td>\n",
       "      <td>{\"id\":269,\"name\":\"Ready-to-wear\",\"analytics_na...</td>\n",
       "      <td>DE</td>\n",
       "      <td>1504364375</td>\n",
       "      <td>1507625188</td>\n",
       "      <td>15000.0</td>\n",
       "      <td>937524480</td>\n",
       "      <td>1505033188</td>\n",
       "      <td>Ready to wear</td>\n",
       "      <td>7372.0</td>\n",
       "      <td>False</td>\n",
       "      <td>False</td>\n",
       "      <td>failed</td>\n",
       "      <td>1507625190</td>\n",
       "      <td>1.176750</td>\n",
       "      <td>8873.674115</td>\n",
       "    </tr>\n",
       "  </tbody>\n",
       "</table>\n",
       "</div>"
      ],
      "text/plain": [
       "        backers_count blurb  \\\n",
       "6115                2   NaN   \n",
       "6784                0   NaN   \n",
       "15870               0   NaN   \n",
       "33540             242   NaN   \n",
       "65114               0   NaN   \n",
       "132712              0   NaN   \n",
       "132878              0   NaN   \n",
       "134009             39   NaN   \n",
       "\n",
       "                                                 category country  created_at  \\\n",
       "6115    {\"id\":351,\"name\":\"Printing\",\"analytics_name\":\"...      US  1406991938   \n",
       "6784    {\"id\":286,\"name\":\"Spaces\",\"analytics_name\":\"Sp...      US  1449537429   \n",
       "15870   {\"id\":311,\"name\":\"Food Trucks\",\"analytics_name...      US  1473363868   \n",
       "33540   {\"id\":339,\"name\":\"Sound\",\"analytics_name\":\"Sou...      GB  1435830664   \n",
       "65114   {\"id\":20,\"name\":\"Conceptual Art\",\"analytics_na...      US  1424103554   \n",
       "132712  {\"id\":20,\"name\":\"Conceptual Art\",\"analytics_na...      US  1331063276   \n",
       "132878  {\"id\":21,\"name\":\"Digital Art\",\"analytics_name\"...      US  1509679461   \n",
       "134009  {\"id\":269,\"name\":\"Ready-to-wear\",\"analytics_na...      DE  1504364375   \n",
       "\n",
       "          deadline       goal          id  launched_at  \\\n",
       "6115    1408334400      100.0   233547398   1407441222   \n",
       "6784    1452142672  1500000.0   272079457   1449550672   \n",
       "15870   1475959978    15000.0   899643147   1473367978   \n",
       "33540   1446209511    60000.0   626888806   1443617511   \n",
       "65114   1427901540   100000.0  1879498871   1424210815   \n",
       "132712  1335042707    50000.0  1224405542   1331158307   \n",
       "132878  1515800048    40000.0  1077399482   1510616048   \n",
       "134009  1507625188    15000.0   937524480   1505033188   \n",
       "\n",
       "                                           name  pledged  spotlight  \\\n",
       "6115                 Vending Machine (Canceled)     20.0      False   \n",
       "6784                             N/A (Canceled)      0.0      False   \n",
       "15870                            N/A (Canceled)      0.0      False   \n",
       "33540   Star Wars Bluetooth Speakers (Canceled)  36058.0      False   \n",
       "65114                            N/A (Canceled)      0.0      False   \n",
       "132712                           N/A (Canceled)      0.0      False   \n",
       "132878                                  awlsies      0.0      False   \n",
       "134009                            Ready to wear   7372.0      False   \n",
       "\n",
       "        staff_pick     state  state_changed_at  usd_exchange_rate  \\\n",
       "6115         False  canceled        1408333920           1.000000   \n",
       "6784         False  canceled        1449571384           1.000000   \n",
       "15870        False  canceled        1473968146           1.000000   \n",
       "33540        False  canceled        1443825021           1.514213   \n",
       "65114        False  canceled        1424449267           1.000000   \n",
       "132712       False  canceled        1331581327           1.000000   \n",
       "132878       False    failed        1515800048           1.000000   \n",
       "134009       False    failed        1507625190           1.176750   \n",
       "\n",
       "         usd_pledged  \n",
       "6115       20.000000  \n",
       "6784        0.000000  \n",
       "15870       0.000000  \n",
       "33540   54676.079907  \n",
       "65114       0.000000  \n",
       "132712      0.000000  \n",
       "132878      0.000000  \n",
       "134009   8873.674115  "
      ]
     },
     "execution_count": 10,
     "metadata": {},
     "output_type": "execute_result"
    }
   ],
   "source": [
    "# Extracting the 8 Nan values\n",
    "df[df.blurb.isnull() == True]"
   ]
  },
  {
   "cell_type": "code",
   "execution_count": 11,
   "metadata": {},
   "outputs": [
    {
     "data": {
      "text/html": [
       "<div>\n",
       "<style scoped>\n",
       "    .dataframe tbody tr th:only-of-type {\n",
       "        vertical-align: middle;\n",
       "    }\n",
       "\n",
       "    .dataframe tbody tr th {\n",
       "        vertical-align: top;\n",
       "    }\n",
       "\n",
       "    .dataframe thead th {\n",
       "        text-align: right;\n",
       "    }\n",
       "</style>\n",
       "<table border=\"1\" class=\"dataframe\">\n",
       "  <thead>\n",
       "    <tr style=\"text-align: right;\">\n",
       "      <th></th>\n",
       "      <th>backers_count</th>\n",
       "      <th>blurb</th>\n",
       "      <th>category</th>\n",
       "      <th>country</th>\n",
       "      <th>created_at</th>\n",
       "      <th>deadline</th>\n",
       "      <th>goal</th>\n",
       "      <th>id</th>\n",
       "      <th>launched_at</th>\n",
       "      <th>name</th>\n",
       "      <th>pledged</th>\n",
       "      <th>spotlight</th>\n",
       "      <th>staff_pick</th>\n",
       "      <th>state</th>\n",
       "      <th>state_changed_at</th>\n",
       "      <th>usd_exchange_rate</th>\n",
       "      <th>usd_pledged</th>\n",
       "    </tr>\n",
       "  </thead>\n",
       "  <tbody>\n",
       "    <tr>\n",
       "      <th>0</th>\n",
       "      <td>63</td>\n",
       "      <td>A Steve Lafler graphic novel</td>\n",
       "      <td>{\"id\":252,\"name\":\"Graphic Novels\",\"analytics_n...</td>\n",
       "      <td>US</td>\n",
       "      <td>1598551608</td>\n",
       "      <td>1600930800</td>\n",
       "      <td>599.0</td>\n",
       "      <td>1629235715</td>\n",
       "      <td>1598972824</td>\n",
       "      <td>1956 Book One: Sweet Sweet Little Ramona</td>\n",
       "      <td>1942.0</td>\n",
       "      <td>True</td>\n",
       "      <td>False</td>\n",
       "      <td>successful</td>\n",
       "      <td>1600930801</td>\n",
       "      <td>1.0</td>\n",
       "      <td>1942.0</td>\n",
       "    </tr>\n",
       "    <tr>\n",
       "      <th>1</th>\n",
       "      <td>132</td>\n",
       "      <td>What happens when two drug-fueled lowlifes fin...</td>\n",
       "      <td>{\"id\":252,\"name\":\"Graphic Novels\",\"analytics_n...</td>\n",
       "      <td>US</td>\n",
       "      <td>1484592440</td>\n",
       "      <td>1489672993</td>\n",
       "      <td>2000.0</td>\n",
       "      <td>1593905291</td>\n",
       "      <td>1487084593</td>\n",
       "      <td>Modern Animals</td>\n",
       "      <td>3097.0</td>\n",
       "      <td>True</td>\n",
       "      <td>False</td>\n",
       "      <td>successful</td>\n",
       "      <td>1489672994</td>\n",
       "      <td>1.0</td>\n",
       "      <td>3097.0</td>\n",
       "    </tr>\n",
       "    <tr>\n",
       "      <th>2</th>\n",
       "      <td>6</td>\n",
       "      <td>A pillow meant for two.</td>\n",
       "      <td>{\"id\":345,\"name\":\"DIY\",\"analytics_name\":\"DIY\",...</td>\n",
       "      <td>US</td>\n",
       "      <td>1422830552</td>\n",
       "      <td>1425583061</td>\n",
       "      <td>500.0</td>\n",
       "      <td>1341470613</td>\n",
       "      <td>1422991061</td>\n",
       "      <td>Couples Couch Pillow</td>\n",
       "      <td>211.0</td>\n",
       "      <td>False</td>\n",
       "      <td>False</td>\n",
       "      <td>failed</td>\n",
       "      <td>1425583065</td>\n",
       "      <td>1.0</td>\n",
       "      <td>211.0</td>\n",
       "    </tr>\n",
       "    <tr>\n",
       "      <th>3</th>\n",
       "      <td>16</td>\n",
       "      <td>Professional conservation of the 1880's mural ...</td>\n",
       "      <td>{\"id\":23,\"name\":\"Painting\",\"analytics_name\":\"P...</td>\n",
       "      <td>US</td>\n",
       "      <td>1540415232</td>\n",
       "      <td>1556115457</td>\n",
       "      <td>17000.0</td>\n",
       "      <td>510157690</td>\n",
       "      <td>1552227457</td>\n",
       "      <td>Downtown Mural Restoration (Ann Arbor, MI)</td>\n",
       "      <td>1368.0</td>\n",
       "      <td>False</td>\n",
       "      <td>False</td>\n",
       "      <td>failed</td>\n",
       "      <td>1556115457</td>\n",
       "      <td>1.0</td>\n",
       "      <td>1368.0</td>\n",
       "    </tr>\n",
       "    <tr>\n",
       "      <th>4</th>\n",
       "      <td>44</td>\n",
       "      <td>We are trying to raise $2,500 for an art proje...</td>\n",
       "      <td>{\"id\":24,\"name\":\"Performance Art\",\"analytics_n...</td>\n",
       "      <td>US</td>\n",
       "      <td>1340910823</td>\n",
       "      <td>1365187488</td>\n",
       "      <td>2500.0</td>\n",
       "      <td>147824964</td>\n",
       "      <td>1360007088</td>\n",
       "      <td>The Trade Parade of Ecuador</td>\n",
       "      <td>2506.0</td>\n",
       "      <td>True</td>\n",
       "      <td>False</td>\n",
       "      <td>successful</td>\n",
       "      <td>1365187533</td>\n",
       "      <td>1.0</td>\n",
       "      <td>2506.0</td>\n",
       "    </tr>\n",
       "  </tbody>\n",
       "</table>\n",
       "</div>"
      ],
      "text/plain": [
       "   backers_count                                              blurb  \\\n",
       "0             63                       A Steve Lafler graphic novel   \n",
       "1            132  What happens when two drug-fueled lowlifes fin...   \n",
       "2              6                            A pillow meant for two.   \n",
       "3             16  Professional conservation of the 1880's mural ...   \n",
       "4             44  We are trying to raise $2,500 for an art proje...   \n",
       "\n",
       "                                            category country  created_at  \\\n",
       "0  {\"id\":252,\"name\":\"Graphic Novels\",\"analytics_n...      US  1598551608   \n",
       "1  {\"id\":252,\"name\":\"Graphic Novels\",\"analytics_n...      US  1484592440   \n",
       "2  {\"id\":345,\"name\":\"DIY\",\"analytics_name\":\"DIY\",...      US  1422830552   \n",
       "3  {\"id\":23,\"name\":\"Painting\",\"analytics_name\":\"P...      US  1540415232   \n",
       "4  {\"id\":24,\"name\":\"Performance Art\",\"analytics_n...      US  1340910823   \n",
       "\n",
       "     deadline     goal          id  launched_at  \\\n",
       "0  1600930800    599.0  1629235715   1598972824   \n",
       "1  1489672993   2000.0  1593905291   1487084593   \n",
       "2  1425583061    500.0  1341470613   1422991061   \n",
       "3  1556115457  17000.0   510157690   1552227457   \n",
       "4  1365187488   2500.0   147824964   1360007088   \n",
       "\n",
       "                                         name  pledged  spotlight  staff_pick  \\\n",
       "0    1956 Book One: Sweet Sweet Little Ramona   1942.0       True       False   \n",
       "1                              Modern Animals   3097.0       True       False   \n",
       "2                        Couples Couch Pillow    211.0      False       False   \n",
       "3  Downtown Mural Restoration (Ann Arbor, MI)   1368.0      False       False   \n",
       "4                 The Trade Parade of Ecuador   2506.0       True       False   \n",
       "\n",
       "        state  state_changed_at  usd_exchange_rate  usd_pledged  \n",
       "0  successful        1600930801                1.0       1942.0  \n",
       "1  successful        1489672994                1.0       3097.0  \n",
       "2      failed        1425583065                1.0        211.0  \n",
       "3      failed        1556115457                1.0       1368.0  \n",
       "4  successful        1365187533                1.0       2506.0  "
      ]
     },
     "execution_count": 11,
     "metadata": {},
     "output_type": "execute_result"
    }
   ],
   "source": [
    "df.dropna(subset = [\"blurb\"])\n",
    "df.head()"
   ]
  },
  {
   "cell_type": "code",
   "execution_count": 12,
   "metadata": {},
   "outputs": [
    {
     "data": {
      "text/plain": [
       "(224457, 17)"
      ]
     },
     "execution_count": 12,
     "metadata": {},
     "output_type": "execute_result"
    }
   ],
   "source": [
    "df.shape"
   ]
  },
  {
   "cell_type": "code",
   "execution_count": 13,
   "metadata": {},
   "outputs": [],
   "source": [
    "#Feature Engineering\n",
    "df['blurb_length'] = df['blurb'].str.split().str.len()\n",
    "df['goal_in_usd'] = round(df['goal'] * df['usd_exchange_rate'],2)\n"
   ]
  },
  {
   "cell_type": "code",
   "execution_count": 14,
   "metadata": {},
   "outputs": [],
   "source": [
    "#Convert epoch dates to Date using pandas\n",
    "df['created_at'] = pd.to_datetime(df['created_at'], origin='unix', unit='s').dt.date\n",
    "df['deadline'] = pd.to_datetime(df['deadline'], origin='unix', unit='s').dt.date\n",
    "df['launched_at'] = pd.to_datetime(df['launched_at'], origin='unix', unit='s').dt.date\n",
    "df['state_changed_at'] = pd.to_datetime(df['state_changed_at'], origin='unix', unit='s').dt.date\n"
   ]
  },
  {
   "cell_type": "code",
   "execution_count": 15,
   "metadata": {},
   "outputs": [],
   "source": [
    "# Converting into datetime type\n",
    "df['created_at'] = pd.to_datetime(df['created_at'],format='%Y-%m-%d')\n",
    "df['deadline'] = pd.to_datetime(df['deadline'],format='%Y-%m-%d')\n",
    "df['launched_at'] = pd.to_datetime(df['launched_at'],format='%Y-%m-%d')\n",
    "\n",
    "# New feature - campaign duration\n",
    "df['campaign_duration'] = (df['deadline'] - df['launched_at']).dt.days"
   ]
  },
  {
   "cell_type": "code",
   "execution_count": 16,
   "metadata": {},
   "outputs": [
    {
     "data": {
      "text/plain": [
       "0    23\n",
       "1    30\n",
       "2    30\n",
       "3    45\n",
       "4    60\n",
       "Name: campaign_duration, dtype: int64"
      ]
     },
     "execution_count": 16,
     "metadata": {},
     "output_type": "execute_result"
    }
   ],
   "source": [
    "df['campaign_duration'][:5]"
   ]
  },
  {
   "cell_type": "code",
   "execution_count": 17,
   "metadata": {},
   "outputs": [
    {
     "data": {
      "text/plain": [
       "'{\"id\":24,\"name\":\"Performance Art\",\"analytics_name\":\"Performance Art\",\"slug\":\"art/performance art\",\"position\":8,\"parent_id\":1,\"parent_name\":\"Art\",\"color\":16760235,\"urls\":{\"web\":{\"discover\":\"http://www.kickstarter.com/discover/categories/art/performance%20art\"}}}'"
      ]
     },
     "execution_count": 17,
     "metadata": {},
     "output_type": "execute_result"
    }
   ],
   "source": [
    "# Example category value\n",
    "df.iloc[190]['category']"
   ]
  },
  {
   "cell_type": "code",
   "execution_count": 18,
   "metadata": {},
   "outputs": [
    {
     "data": {
      "text/plain": [
       "0     graphic novels\n",
       "1     graphic novels\n",
       "2                diy\n",
       "3           painting\n",
       "4    performance art\n",
       "Name: sub_category, dtype: object"
      ]
     },
     "execution_count": 18,
     "metadata": {},
     "output_type": "execute_result"
    }
   ],
   "source": [
    "# Extracting sub-category section column category\n",
    "fun_subcategory = lambda x: x['category'].split('/')[1].split('\",\"position')[0]\n",
    "df['sub_category'] = df.apply(fun_subcategory, axis=1)\n",
    "df['sub_category'].head()"
   ]
  },
  {
   "cell_type": "code",
   "execution_count": 19,
   "metadata": {},
   "outputs": [
    {
     "data": {
      "text/plain": [
       "0    comics\n",
       "1    comics\n",
       "2    crafts\n",
       "3       art\n",
       "4       art\n",
       "Name: category, dtype: object"
      ]
     },
     "execution_count": 19,
     "metadata": {},
     "output_type": "execute_result"
    }
   ],
   "source": [
    "# Extracting category section and replacing the original category variable\n",
    "fun_category = lambda x: x['category'].split('\"slug\":\"')[1].split('/')[0]\n",
    "df['category'] = df.apply(fun_category, axis=1)\n",
    "df['category'].head()"
   ]
  },
  {
   "cell_type": "code",
   "execution_count": 20,
   "metadata": {},
   "outputs": [
    {
     "data": {
      "text/plain": [
       "successful    132398\n",
       "failed         76649\n",
       "canceled        9314\n",
       "live            6096\n",
       "Name: state, dtype: int64"
      ]
     },
     "execution_count": 20,
     "metadata": {},
     "output_type": "execute_result"
    }
   ],
   "source": [
    "df['state'].value_counts()"
   ]
  },
  {
   "cell_type": "code",
   "execution_count": 21,
   "metadata": {},
   "outputs": [],
   "source": [
    "# droppping live status\n",
    "condition = df['state'] == 'live'\n",
    "df = df[~condition]"
   ]
  },
  {
   "cell_type": "code",
   "execution_count": 22,
   "metadata": {},
   "outputs": [
    {
     "data": {
      "text/plain": [
       "successful    132398\n",
       "failed         76649\n",
       "canceled        9314\n",
       "Name: state, dtype: int64"
      ]
     },
     "execution_count": 22,
     "metadata": {},
     "output_type": "execute_result"
    }
   ],
   "source": [
    "df['state'].value_counts()"
   ]
  },
  {
   "cell_type": "code",
   "execution_count": 23,
   "metadata": {},
   "outputs": [],
   "source": [
    "# replacing cancelled with failed\n",
    "df['state'] = df['state'].replace(to_replace =\"canceled\",\n",
    "                 value =\"failed\")"
   ]
  },
  {
   "cell_type": "code",
   "execution_count": 24,
   "metadata": {},
   "outputs": [
    {
     "data": {
      "text/plain": [
       "successful    132398\n",
       "failed         85963\n",
       "Name: state, dtype: int64"
      ]
     },
     "execution_count": 24,
     "metadata": {},
     "output_type": "execute_result"
    }
   ],
   "source": [
    "df['state'].value_counts()"
   ]
  },
  {
   "cell_type": "code",
   "execution_count": 25,
   "metadata": {},
   "outputs": [
    {
     "data": {
      "text/plain": [
       "1    132398\n",
       "0     85963\n",
       "Name: state, dtype: int64"
      ]
     },
     "execution_count": 25,
     "metadata": {},
     "output_type": "execute_result"
    }
   ],
   "source": [
    "# One hot encoding column state\n",
    "# Successful = 1 , Failed = 0 \n",
    "df.loc[df['state']=='successful','state'] = 1\n",
    "df.loc[df['state']=='failed','state'] = 0\n",
    "df['state'] = df['state'].astype(int)\n",
    "df['state'].value_counts()"
   ]
  },
  {
   "cell_type": "code",
   "execution_count": 26,
   "metadata": {},
   "outputs": [
    {
     "data": {
      "text/plain": [
       "1    132398\n",
       "0     85963\n",
       "Name: spotlight, dtype: int64"
      ]
     },
     "execution_count": 26,
     "metadata": {},
     "output_type": "execute_result"
    }
   ],
   "source": [
    "\n",
    "# One hot encoding column spotlight \n",
    "# True = 1 , False = 0 \n",
    "df.loc[df['spotlight']==True,'spotlight'] = 1\n",
    "df.loc[df['spotlight']==False,'spotlight'] = 0\n",
    "df['spotlight'] = df['spotlight'].astype(int)\n",
    "df['spotlight'].value_counts() "
   ]
  },
  {
   "cell_type": "code",
   "execution_count": 27,
   "metadata": {},
   "outputs": [
    {
     "data": {
      "text/plain": [
       "0    187782\n",
       "1     30579\n",
       "Name: staff_pick, dtype: int64"
      ]
     },
     "execution_count": 27,
     "metadata": {},
     "output_type": "execute_result"
    }
   ],
   "source": [
    "# One hot encoding column staff_pick \n",
    "# True = 1 , False = 0 \n",
    "df.loc[df['staff_pick']==True,'staff_pick'] = 1\n",
    "df.loc[df['staff_pick']==False,'staff_pick'] = 0\n",
    "df['staff_pick'] = df['staff_pick'].astype(int)\n",
    "df['staff_pick'].value_counts() \n"
   ]
  },
  {
   "cell_type": "code",
   "execution_count": 28,
   "metadata": {},
   "outputs": [
    {
     "data": {
      "text/plain": [
       "backers_count                 int64\n",
       "blurb                        object\n",
       "category                     object\n",
       "country                      object\n",
       "created_at           datetime64[ns]\n",
       "deadline             datetime64[ns]\n",
       "goal                        float64\n",
       "id                            int64\n",
       "launched_at          datetime64[ns]\n",
       "name                         object\n",
       "pledged                     float64\n",
       "spotlight                     int64\n",
       "staff_pick                    int64\n",
       "state                         int64\n",
       "state_changed_at             object\n",
       "usd_exchange_rate           float64\n",
       "usd_pledged                 float64\n",
       "blurb_length                float64\n",
       "goal_in_usd                 float64\n",
       "campaign_duration             int64\n",
       "sub_category                 object\n",
       "dtype: object"
      ]
     },
     "execution_count": 28,
     "metadata": {},
     "output_type": "execute_result"
    }
   ],
   "source": [
    "df.dtypes"
   ]
  },
  {
   "cell_type": "code",
   "execution_count": 28,
   "metadata": {},
   "outputs": [
    {
     "data": {
      "text/html": [
       "<div>\n",
       "<style scoped>\n",
       "    .dataframe tbody tr th:only-of-type {\n",
       "        vertical-align: middle;\n",
       "    }\n",
       "\n",
       "    .dataframe tbody tr th {\n",
       "        vertical-align: top;\n",
       "    }\n",
       "\n",
       "    .dataframe thead th {\n",
       "        text-align: right;\n",
       "    }\n",
       "</style>\n",
       "<table border=\"1\" class=\"dataframe\">\n",
       "  <thead>\n",
       "    <tr style=\"text-align: right;\">\n",
       "      <th></th>\n",
       "      <th>backers_count</th>\n",
       "      <th>blurb</th>\n",
       "      <th>category</th>\n",
       "      <th>country</th>\n",
       "      <th>created_at</th>\n",
       "      <th>deadline</th>\n",
       "      <th>goal</th>\n",
       "      <th>id</th>\n",
       "      <th>launched_at</th>\n",
       "      <th>name</th>\n",
       "      <th>...</th>\n",
       "      <th>spotlight</th>\n",
       "      <th>staff_pick</th>\n",
       "      <th>state</th>\n",
       "      <th>state_changed_at</th>\n",
       "      <th>usd_exchange_rate</th>\n",
       "      <th>usd_pledged</th>\n",
       "      <th>blurb_length</th>\n",
       "      <th>goal_in_usd</th>\n",
       "      <th>campaign_duration</th>\n",
       "      <th>sub_category</th>\n",
       "    </tr>\n",
       "  </thead>\n",
       "  <tbody>\n",
       "    <tr>\n",
       "      <th>0</th>\n",
       "      <td>63</td>\n",
       "      <td>A Steve Lafler graphic novel</td>\n",
       "      <td>comics</td>\n",
       "      <td>US</td>\n",
       "      <td>2020-08-27</td>\n",
       "      <td>2020-09-24</td>\n",
       "      <td>599.0</td>\n",
       "      <td>1629235715</td>\n",
       "      <td>2020-09-01</td>\n",
       "      <td>1956 Book One: Sweet Sweet Little Ramona</td>\n",
       "      <td>...</td>\n",
       "      <td>1</td>\n",
       "      <td>0</td>\n",
       "      <td>1</td>\n",
       "      <td>2020-09-24</td>\n",
       "      <td>1.0</td>\n",
       "      <td>1942.0</td>\n",
       "      <td>5.0</td>\n",
       "      <td>599.0</td>\n",
       "      <td>1957976</td>\n",
       "      <td>graphic novels</td>\n",
       "    </tr>\n",
       "    <tr>\n",
       "      <th>1</th>\n",
       "      <td>132</td>\n",
       "      <td>What happens when two drug-fueled lowlifes fin...</td>\n",
       "      <td>comics</td>\n",
       "      <td>US</td>\n",
       "      <td>2017-01-16</td>\n",
       "      <td>2017-03-16</td>\n",
       "      <td>2000.0</td>\n",
       "      <td>1593905291</td>\n",
       "      <td>2017-02-14</td>\n",
       "      <td>Modern Animals</td>\n",
       "      <td>...</td>\n",
       "      <td>1</td>\n",
       "      <td>0</td>\n",
       "      <td>1</td>\n",
       "      <td>2017-03-16</td>\n",
       "      <td>1.0</td>\n",
       "      <td>3097.0</td>\n",
       "      <td>20.0</td>\n",
       "      <td>2000.0</td>\n",
       "      <td>2588400</td>\n",
       "      <td>graphic novels</td>\n",
       "    </tr>\n",
       "  </tbody>\n",
       "</table>\n",
       "<p>2 rows × 21 columns</p>\n",
       "</div>"
      ],
      "text/plain": [
       "   backers_count                                              blurb category  \\\n",
       "0             63                       A Steve Lafler graphic novel   comics   \n",
       "1            132  What happens when two drug-fueled lowlifes fin...   comics   \n",
       "\n",
       "  country  created_at    deadline    goal          id launched_at  \\\n",
       "0      US  2020-08-27  2020-09-24   599.0  1629235715  2020-09-01   \n",
       "1      US  2017-01-16  2017-03-16  2000.0  1593905291  2017-02-14   \n",
       "\n",
       "                                       name  ...  spotlight  staff_pick  \\\n",
       "0  1956 Book One: Sweet Sweet Little Ramona  ...          1           0   \n",
       "1                            Modern Animals  ...          1           0   \n",
       "\n",
       "   state  state_changed_at usd_exchange_rate  usd_pledged  blurb_length  \\\n",
       "0      1        2020-09-24               1.0       1942.0           5.0   \n",
       "1      1        2017-03-16               1.0       3097.0          20.0   \n",
       "\n",
       "   goal_in_usd  campaign_duration    sub_category  \n",
       "0        599.0            1957976  graphic novels  \n",
       "1       2000.0            2588400  graphic novels  \n",
       "\n",
       "[2 rows x 21 columns]"
      ]
     },
     "execution_count": 28,
     "metadata": {},
     "output_type": "execute_result"
    }
   ],
   "source": [
    "df.head(2)"
   ]
  },
  {
   "cell_type": "code",
   "execution_count": 29,
   "metadata": {},
   "outputs": [],
   "source": [
    "#Exporting to CSV\n",
    "df.to_csv('KickstarterCleanedv3.csv')"
   ]
  },
  {
   "cell_type": "code",
   "execution_count": null,
   "metadata": {},
   "outputs": [],
   "source": []
  }
 ],
 "metadata": {
  "kernelspec": {
   "display_name": "Python 3 (ipykernel)",
   "language": "python",
   "name": "python3"
  },
  "language_info": {
   "codemirror_mode": {
    "name": "ipython",
    "version": 3
   },
   "file_extension": ".py",
   "mimetype": "text/x-python",
   "name": "python",
   "nbconvert_exporter": "python",
   "pygments_lexer": "ipython3",
   "version": "3.9.5"
  },
  "metadata": {
   "interpreter": {
    "hash": "31f2aee4e71d21fbe5cf8b01ff0e069b9275f58929596ceb00d14d90e3e16cd6"
   }
  }
 },
 "nbformat": 4,
 "nbformat_minor": 2
}
