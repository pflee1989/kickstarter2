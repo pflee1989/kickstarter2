{
 "cells": [
  {
   "cell_type": "code",
   "execution_count": 26,
   "metadata": {},
   "outputs": [],
   "source": [
    "# Import everything\n",
    "\n",
    "import sys\n",
    "import pandas as pd\n",
    "import numpy as np\n",
    "\n",
    "\n",
    "import sklearn\n",
    "from sklearn.model_selection import train_test_split\n",
    "from category_encoders import OneHotEncoder, OrdinalEncoder\n",
    "from sklearn.model_selection import train_test_split\n",
    "from sklearn.preprocessing import StandardScaler\n",
    "from sklearn.impute import SimpleImputer\n",
    "from sklearn.pipeline import make_pipeline\n",
    "from sklearn.metrics import accuracy_score\n",
    "\n",
    "import xgboost\n",
    "from xgboost import XGBClassifier\n",
    "from sklearn.tree import DecisionTreeClassifier\n",
    "from sklearn.ensemble import RandomForestClassifier, GradientBoostingClassifier\n",
    "\n",
    "import pickle\n",
    "import joblib\n"
   ]
  },
  {
   "cell_type": "code",
   "execution_count": 27,
   "metadata": {},
   "outputs": [
    {
     "data": {
      "text/html": [
       "<div>\n",
       "<style scoped>\n",
       "    .dataframe tbody tr th:only-of-type {\n",
       "        vertical-align: middle;\n",
       "    }\n",
       "\n",
       "    .dataframe tbody tr th {\n",
       "        vertical-align: top;\n",
       "    }\n",
       "\n",
       "    .dataframe thead th {\n",
       "        text-align: right;\n",
       "    }\n",
       "</style>\n",
       "<table border=\"1\" class=\"dataframe\">\n",
       "  <thead>\n",
       "    <tr style=\"text-align: right;\">\n",
       "      <th></th>\n",
       "      <th>id</th>\n",
       "      <th>backers_count</th>\n",
       "      <th>category</th>\n",
       "      <th>pledged</th>\n",
       "      <th>state</th>\n",
       "      <th>blurb_length</th>\n",
       "      <th>goal_in_usd</th>\n",
       "      <th>campaign_duration</th>\n",
       "      <th>sub_category</th>\n",
       "    </tr>\n",
       "  </thead>\n",
       "  <tbody>\n",
       "    <tr>\n",
       "      <th>0</th>\n",
       "      <td>0</td>\n",
       "      <td>128</td>\n",
       "      <td>publishing</td>\n",
       "      <td>4718.0</td>\n",
       "      <td>1</td>\n",
       "      <td>17.0</td>\n",
       "      <td>5770.03</td>\n",
       "      <td>40</td>\n",
       "      <td>zines</td>\n",
       "    </tr>\n",
       "    <tr>\n",
       "      <th>1</th>\n",
       "      <td>1</td>\n",
       "      <td>0</td>\n",
       "      <td>publishing</td>\n",
       "      <td>0.0</td>\n",
       "      <td>0</td>\n",
       "      <td>22.0</td>\n",
       "      <td>3804.70</td>\n",
       "      <td>30</td>\n",
       "      <td>zines</td>\n",
       "    </tr>\n",
       "    <tr>\n",
       "      <th>2</th>\n",
       "      <td>2</td>\n",
       "      <td>1</td>\n",
       "      <td>publishing</td>\n",
       "      <td>25.0</td>\n",
       "      <td>0</td>\n",
       "      <td>20.0</td>\n",
       "      <td>1705.15</td>\n",
       "      <td>30</td>\n",
       "      <td>zines</td>\n",
       "    </tr>\n",
       "    <tr>\n",
       "      <th>3</th>\n",
       "      <td>3</td>\n",
       "      <td>2</td>\n",
       "      <td>publishing</td>\n",
       "      <td>120.0</td>\n",
       "      <td>0</td>\n",
       "      <td>19.0</td>\n",
       "      <td>5371.42</td>\n",
       "      <td>60</td>\n",
       "      <td>zines</td>\n",
       "    </tr>\n",
       "    <tr>\n",
       "      <th>4</th>\n",
       "      <td>4</td>\n",
       "      <td>0</td>\n",
       "      <td>publishing</td>\n",
       "      <td>0.0</td>\n",
       "      <td>0</td>\n",
       "      <td>16.0</td>\n",
       "      <td>9.15</td>\n",
       "      <td>30</td>\n",
       "      <td>zines</td>\n",
       "    </tr>\n",
       "  </tbody>\n",
       "</table>\n",
       "</div>"
      ],
      "text/plain": [
       "   id  backers_count    category  pledged  state  blurb_length  goal_in_usd  \\\n",
       "0   0            128  publishing   4718.0      1          17.0      5770.03   \n",
       "1   1              0  publishing      0.0      0          22.0      3804.70   \n",
       "2   2              1  publishing     25.0      0          20.0      1705.15   \n",
       "3   3              2  publishing    120.0      0          19.0      5371.42   \n",
       "4   4              0  publishing      0.0      0          16.0         9.15   \n",
       "\n",
       "   campaign_duration sub_category  \n",
       "0                 40        zines  \n",
       "1                 30        zines  \n",
       "2                 30        zines  \n",
       "3                 60        zines  \n",
       "4                 30        zines  "
      ]
     },
     "execution_count": 27,
     "metadata": {},
     "output_type": "execute_result"
    }
   ],
   "source": [
    "df = pd.read_csv('assets/Kickstarter_FinalCleaned.csv')\n",
    "df.head()"
   ]
  },
  {
   "cell_type": "code",
   "execution_count": 29,
   "metadata": {},
   "outputs": [
    {
     "data": {
      "text/plain": [
       "Index(['id', 'backers_count', 'category', 'pledged', 'state', 'blurb_length',\n",
       "       'goal_in_usd', 'campaign_duration', 'sub_category'],\n",
       "      dtype='object')"
      ]
     },
     "execution_count": 29,
     "metadata": {},
     "output_type": "execute_result"
    }
   ],
   "source": [
    "df.columns"
   ]
  },
  {
   "cell_type": "code",
   "execution_count": 30,
   "metadata": {},
   "outputs": [
    {
     "data": {
      "text/plain": [
       "(8317, 9)"
      ]
     },
     "execution_count": 30,
     "metadata": {},
     "output_type": "execute_result"
    }
   ],
   "source": [
    "df.shape"
   ]
  },
  {
   "cell_type": "code",
   "execution_count": 31,
   "metadata": {},
   "outputs": [
    {
     "name": "stdout",
     "output_type": "stream",
     "text": [
      "(8317, 8)\n",
      "(8317,)\n"
     ]
    }
   ],
   "source": [
    "# Extracting the target and feature matrix\n",
    "target = 'state'\n",
    "y = df[target]\n",
    "X = df.drop(columns=target)\n",
    "\n",
    "print(X.shape)\n",
    "print(y.shape)"
   ]
  },
  {
   "cell_type": "code",
   "execution_count": 32,
   "metadata": {},
   "outputs": [
    {
     "name": "stdout",
     "output_type": "stream",
     "text": [
      "(4990, 8) (3327, 8)\n",
      "(4990,) (3327,)\n"
     ]
    }
   ],
   "source": [
    "# Splitting into train test split\n",
    "X_train, X_test, y_train, y_test = train_test_split(X, y, test_size = .4)\n",
    "print(X_train.shape,X_test.shape)\n",
    "print(y_train.shape,y_test.shape)"
   ]
  },
  {
   "cell_type": "code",
   "execution_count": 33,
   "metadata": {},
   "outputs": [
    {
     "name": "stdout",
     "output_type": "stream",
     "text": [
      "baseline accuracy 0.6059877359624865\n"
     ]
    }
   ],
   "source": [
    "#Baseline\n",
    "\n",
    "print('baseline accuracy', y.value_counts(normalize=True).max())\n"
   ]
  },
  {
   "cell_type": "code",
   "execution_count": 34,
   "metadata": {},
   "outputs": [],
   "source": [
    "#  Random Forest\n",
    "\n",
    "model_rf = make_pipeline(OrdinalEncoder(),\n",
    "                       SimpleImputer(strategy=\"mean\"),\n",
    "                       RandomForestClassifier( n_jobs=-1, random_state=42))"
   ]
  },
  {
   "cell_type": "code",
   "execution_count": 35,
   "metadata": {},
   "outputs": [],
   "source": [
    "# Decision Tree\n",
    "model_dt = make_pipeline(OrdinalEncoder(),\n",
    "                      SimpleImputer(strategy=\"mean\"),\n",
    "                      DecisionTreeClassifier(random_state=42))"
   ]
  },
  {
   "cell_type": "code",
   "execution_count": 36,
   "metadata": {},
   "outputs": [],
   "source": [
    "# XGBoost\n",
    "\n",
    "model_xgb = make_pipeline(OrdinalEncoder(),\n",
    "                       SimpleImputer(strategy=\"mean\"),\n",
    "                       XGBClassifier(random_state=42))"
   ]
  },
  {
   "cell_type": "code",
   "execution_count": 37,
   "metadata": {},
   "outputs": [],
   "source": [
    "# Gradient Boost\n",
    "\n",
    "model_gb = make_pipeline(OrdinalEncoder(),\n",
    "                       SimpleImputer(strategy=\"mean\"),\n",
    "                       GradientBoostingClassifier(random_state=42))"
   ]
  },
  {
   "cell_type": "code",
   "execution_count": 38,
   "metadata": {},
   "outputs": [
    {
     "name": "stderr",
     "output_type": "stream",
     "text": [
      "/home/rhia/.local/share/virtualenvs/KickstarterSuccess-Diw2u4NI/lib/python3.8/site-packages/xgboost/sklearn.py:1146: UserWarning: The use of label encoder in XGBClassifier is deprecated and will be removed in a future release. To remove this warning, do the following: 1) Pass option use_label_encoder=False when constructing XGBClassifier object; and 2) Encode your labels (y) as integers starting with 0, i.e. 0, 1, 2, ..., [num_class - 1].\n",
      "  warnings.warn(label_encoder_deprecation_msg, UserWarning)\n",
      "[15:30:20] WARNING: ../src/learner.cc:1095: Starting in XGBoost 1.3.0, the default evaluation metric used with the objective 'binary:logistic' was changed from 'error' to 'logloss'. Explicitly set eval_metric if you'd like to restore the old behavior.\n"
     ]
    },
    {
     "data": {
      "text/plain": [
       "Pipeline(steps=[('ordinalencoder',\n",
       "                 OrdinalEncoder(cols=['category', 'sub_category'],\n",
       "                                mapping=[{'col': 'category',\n",
       "                                          'data_type': dtype('O'),\n",
       "                                          'mapping': art              1\n",
       "film & video     2\n",
       "fashion          3\n",
       "publishing       4\n",
       "technology       5\n",
       "crafts           6\n",
       "design           7\n",
       "food             8\n",
       "theater          9\n",
       "photography     10\n",
       "comics          11\n",
       "music           12\n",
       "dance           13\n",
       "NaN             -2\n",
       "dtype: int64},\n",
       "                                         {'col': 'sub_category',\n",
       "                                          'data_type': dtype('O'),\n",
       "                                          'mapping': illustration          1\n",
       "action                2\n",
       "accessories           3\n",
       "radio & podcasts      4\n",
       "hardware              5\n",
       "                   ... \n",
       "literary spaces     119\n",
       "translations        120\n",
       "letterpress         121\n",
       "quilts              122\n",
       "NaN                  -2\n",
       "Length: 123, dtype: int64}])),\n",
       "                ('simpleimputer', SimpleImputer()),\n",
       "                ('gradientboostingclassifier',\n",
       "                 GradientBoostingClassifier(random_state=42))])"
      ]
     },
     "execution_count": 38,
     "metadata": {},
     "output_type": "execute_result"
    }
   ],
   "source": [
    "model_rf.fit(X_train,y_train)\n",
    "model_dt.fit(X_train,y_train)\n",
    "model_xgb.fit(X_train,y_train)\n",
    "model_gb.fit(X_train,y_train)"
   ]
  },
  {
   "cell_type": "code",
   "execution_count": 39,
   "metadata": {},
   "outputs": [
    {
     "name": "stdout",
     "output_type": "stream",
     "text": [
      "model_dt accuracy score 1.0\n",
      "model_rf accuracy score 1.0\n",
      "model_xgb accuracy score 1.0\n",
      "model_gb accuracy score 0.9875751503006012\n",
      "/home/rhia/.local/share/virtualenvs/KickstarterSuccess-Diw2u4NI/lib/python3.8/site-packages/xgboost/data.py:112: UserWarning: Use subset (sliced data) of np.ndarray is not recommended because it will generate extra copies and increase memory consumption\n",
      "  warnings.warn(\n"
     ]
    }
   ],
   "source": [
    "#Check Metrics on training\n",
    "print('model_dt accuracy score', accuracy_score(y_train, model_dt.predict(X_train)))\n",
    "print('model_rf accuracy score', accuracy_score(y_train, model_rf.predict(X_train)))\n",
    "print('model_xgb accuracy score', accuracy_score(y_train, model_xgb.predict(X_train)))\n",
    "print('model_gb accuracy score', accuracy_score(y_train, model_gb.predict(X_train)))"
   ]
  },
  {
   "cell_type": "code",
   "execution_count": 40,
   "metadata": {},
   "outputs": [],
   "source": [
    "# Metrics with test data\n",
    "# print('model_dt accuracy score', accuracy_score(y_test, model_dt.predict(X_test)))\n",
    "# print('model_rf accuracy score', accuracy_score(y_test, model_rf.predict(X_test)))\n",
    "# print('model_xgb accuracy score', accuracy_score(y_test, model_xgb.predict(X_test)))\n",
    "# print('model_gb accuracy score', accuracy_score(y_test, model_gb.predict(X_test)))"
   ]
  },
  {
   "cell_type": "code",
   "execution_count": 41,
   "metadata": {},
   "outputs": [],
   "source": [
    "# saving models using pickle\n",
    "saved_model_rf = pickle.dumps(model_rf)\n",
    "saved_model_xgb = pickle.dumps(model_xgb)\n"
   ]
  },
  {
   "cell_type": "code",
   "execution_count": 42,
   "metadata": {},
   "outputs": [
    {
     "data": {
      "text/plain": [
       "['assets/model_rf']"
      ]
     },
     "execution_count": 42,
     "metadata": {},
     "output_type": "execute_result"
    }
   ],
   "source": [
    "\n",
    "joblib_file = \"joblib_RF_Model.pkl\"  \n",
    "joblib.dump(model_rf, 'assets/model_rf')\n"
   ]
  },
  {
   "cell_type": "code",
   "execution_count": 43,
   "metadata": {},
   "outputs": [
    {
     "data": {
      "text/plain": [
       "['assets/model_xgb']"
      ]
     },
     "execution_count": 43,
     "metadata": {},
     "output_type": "execute_result"
    }
   ],
   "source": [
    "joblib_file = \"joblib_XGB_Model.pkl\"  \n",
    "joblib.dump(model_xgb, 'assets/model_xgb')"
   ]
  },
  {
   "cell_type": "code",
   "execution_count": 44,
   "metadata": {},
   "outputs": [],
   "source": [
    "#Testing if model saved and working correctly\n",
    "# # Load from file\n",
    "# load_xgb_model = joblib.load('assets/model_xgb')\n",
    "# load_xgb_model\n",
    "\n"
   ]
  },
  {
   "cell_type": "code",
   "execution_count": 45,
   "metadata": {},
   "outputs": [],
   "source": [
    "# # Use the Reloaded Joblib Model to \n",
    "# # Calculate the accuracy score and predict target values\n",
    "\n",
    "# # Calculate the Score \n",
    "# score = load_xgb_model.score(X_test, y_test)  \n",
    "# # # Print the Score\n",
    "# print(\"Test score: {0:.2f} %\".format(100 * score))  \n",
    "\n",
    "# # # Predict the Labels using the reloaded Model\n",
    "# Ypredict = load_xgb_model.predict(X_test)  \n",
    "\n",
    "# Ypredict"
   ]
  },
  {
   "cell_type": "code",
   "execution_count": 46,
   "metadata": {},
   "outputs": [
    {
     "data": {
      "text/plain": [
       "Index(['id', 'backers_count', 'category', 'pledged', 'blurb_length',\n",
       "       'goal_in_usd', 'campaign_duration', 'sub_category'],\n",
       "      dtype='object')"
      ]
     },
     "execution_count": 46,
     "metadata": {},
     "output_type": "execute_result"
    }
   ],
   "source": [
    "X_train.columns"
   ]
  },
  {
   "cell_type": "code",
   "execution_count": 47,
   "metadata": {},
   "outputs": [
    {
     "data": {
      "text/plain": [
       "film & video    878\n",
       "art             719\n",
       "technology      592\n",
       "comics          482\n",
       "fashion         431\n",
       "crafts          342\n",
       "publishing      333\n",
       "design          322\n",
       "food            318\n",
       "theater         203\n",
       "music           133\n",
       "dance           129\n",
       "photography     108\n",
       "Name: category, dtype: int64"
      ]
     },
     "execution_count": 47,
     "metadata": {},
     "output_type": "execute_result"
    }
   ],
   "source": [
    "X_train.category.value_counts()"
   ]
  },
  {
   "cell_type": "code",
   "execution_count": null,
   "metadata": {},
   "outputs": [],
   "source": []
  }
 ],
 "metadata": {
  "kernelspec": {
   "display_name": "Python 3 (ipykernel)",
   "language": "python",
   "name": "python3"
  },
  "language_info": {
   "codemirror_mode": {
    "name": "ipython",
    "version": 3
   },
   "file_extension": ".py",
   "mimetype": "text/x-python",
   "name": "python",
   "nbconvert_exporter": "python",
   "pygments_lexer": "ipython3",
   "version": "3.9.5"
  }
 },
 "nbformat": 4,
 "nbformat_minor": 2
}
